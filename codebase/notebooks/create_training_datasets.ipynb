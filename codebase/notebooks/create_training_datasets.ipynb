{
 "cells": [
  {
   "cell_type": "markdown",
   "metadata": {},
   "source": [
    "We need to create training datasets for DLC using the results from Tierpsy. \n",
    "\n",
    "Things to keep in mind :\n",
    "\n",
    "- Skeleton points only or contours as well ?\n",
    "- NaN frames \n",
    "- Shrinking vs Animal going vertical in the gel (How to distinguish)\n",
    "- Do we manually motify the labels ?\n",
    "\n",
    "For the same, we need to first find out few things about the results of Tierpsy.\n",
    "1. What all circumstances cause Tierpsy to output NaN ?\n",
    "    - Only circular blobs ?\n",
    "2. Is it possible to distinguish between the larvae shriking (metamorphosis) and it going vertical in the gel?\n",
    "    - Is it distinguishable to our eyes?\n",
    "    \n",
    "Test cases must include :\n",
    "- Different types of situations where Tierpsy gave NaN as output\n",
    "- Edge probelms (gel drying up)"
   ]
  },
  {
   "cell_type": "markdown",
   "metadata": {},
   "source": [
    "# Examine our Tierpsied dataset"
   ]
  },
  {
   "cell_type": "code",
   "execution_count": null,
   "metadata": {},
   "outputs": [],
   "source": [
    "# Get maybe 5 files where we have all the possible test cases happening scenarios "
   ]
  },
  {
   "cell_type": "markdown",
   "metadata": {},
   "source": [
    "# Curating a labeled set for DLC "
   ]
  },
  {
   "cell_type": "markdown",
   "metadata": {},
   "source": [
    "Can we distinguish drifting ?\n",
    "\n",
    "- No curvature change , but speed (location) changes ?"
   ]
  },
  {
   "cell_type": "code",
   "execution_count": 2,
   "metadata": {},
   "outputs": [],
   "source": [
    "import cv2"
   ]
  },
  {
   "cell_type": "code",
   "execution_count": 3,
   "metadata": {},
   "outputs": [
    {
     "data": {
      "text/plain": [
       "'4.2.0'"
      ]
     },
     "execution_count": 3,
     "metadata": {},
     "output_type": "execute_result"
    }
   ],
   "source": [
    "cv2.__version__"
   ]
  },
  {
   "cell_type": "code",
   "execution_count": 4,
   "metadata": {},
   "outputs": [],
   "source": [
    "video_path = '/share/data/longterm/2/Jerneja_Behaviour/Tierpsy_skeleton_files_jerneja/20180705/avis/20180705_083019_1_15m0s_Fluoxetine10_None_None.avi'"
   ]
  },
  {
   "cell_type": "code",
   "execution_count": 5,
   "metadata": {},
   "outputs": [],
   "source": [
    "cap = cv2.VideoCapture(video_path)\n"
   ]
  },
  {
   "cell_type": "code",
   "execution_count": 6,
   "metadata": {},
   "outputs": [],
   "source": [
    "ret, frame = cap.read()"
   ]
  },
  {
   "cell_type": "code",
   "execution_count": 7,
   "metadata": {},
   "outputs": [
    {
     "data": {
      "text/plain": [
       "True"
      ]
     },
     "execution_count": 7,
     "metadata": {},
     "output_type": "execute_result"
    }
   ],
   "source": [
    "ret"
   ]
  },
  {
   "cell_type": "code",
   "execution_count": 8,
   "metadata": {},
   "outputs": [],
   "source": [
    "cap.release()"
   ]
  },
  {
   "cell_type": "code",
   "execution_count": 9,
   "metadata": {},
   "outputs": [],
   "source": [
    "# index = 0\n",
    "# while index < 5:\n",
    "\n",
    "#     print (index)\n",
    "#     index += 1\n",
    "#     ret, frame = cap.read()\n",
    "    \n",
    "#     if ret == False:\n",
    "#         print(\"End of video\")\n",
    "#         break\n",
    "\n",
    "# #     frame = imutils.resize(frame, width = 500)\n",
    "\n",
    "#     cv2.imshow(\"Video\", frame)\n",
    "#     cv2.waitKey(30)\n",
    "# cap.release()\n",
    "# cv2.destroyAllWindows()"
   ]
  },
  {
   "cell_type": "code",
   "execution_count": 10,
   "metadata": {},
   "outputs": [
    {
     "data": {
      "text/plain": [
       "array([[[144, 144, 144],\n",
       "        [147, 147, 147],\n",
       "        [151, 151, 151],\n",
       "        ...,\n",
       "        [152, 152, 152],\n",
       "        [152, 152, 152],\n",
       "        [151, 151, 151]],\n",
       "\n",
       "       [[145, 145, 145],\n",
       "        [147, 147, 147],\n",
       "        [149, 149, 149],\n",
       "        ...,\n",
       "        [150, 150, 150],\n",
       "        [150, 150, 150],\n",
       "        [153, 153, 153]],\n",
       "\n",
       "       [[149, 149, 149],\n",
       "        [146, 146, 146],\n",
       "        [145, 145, 145],\n",
       "        ...,\n",
       "        [153, 153, 153],\n",
       "        [153, 153, 153],\n",
       "        [149, 149, 149]],\n",
       "\n",
       "       ...,\n",
       "\n",
       "       [[149, 149, 149],\n",
       "        [145, 145, 145],\n",
       "        [145, 145, 145],\n",
       "        ...,\n",
       "        [146, 146, 146],\n",
       "        [150, 150, 150],\n",
       "        [145, 145, 145]],\n",
       "\n",
       "       [[145, 145, 145],\n",
       "        [144, 144, 144],\n",
       "        [142, 142, 142],\n",
       "        ...,\n",
       "        [146, 146, 146],\n",
       "        [150, 150, 150],\n",
       "        [145, 145, 145]],\n",
       "\n",
       "       [[143, 143, 143],\n",
       "        [140, 140, 140],\n",
       "        [138, 138, 138],\n",
       "        ...,\n",
       "        [147, 147, 147],\n",
       "        [144, 144, 144],\n",
       "        [149, 149, 149]]], dtype=uint8)"
      ]
     },
     "execution_count": 10,
     "metadata": {},
     "output_type": "execute_result"
    }
   ],
   "source": [
    "frame"
   ]
  },
  {
   "cell_type": "code",
   "execution_count": null,
   "metadata": {},
   "outputs": [],
   "source": [
    "cv2.imshow(\"Video\", frame)\n",
    "# cv2.waitKey(30)"
   ]
  },
  {
   "cell_type": "code",
   "execution_count": null,
   "metadata": {},
   "outputs": [],
   "source": []
  }
 ],
 "metadata": {
  "kernelspec": {
   "display_name": "Python 3",
   "language": "python",
   "name": "python3"
  },
  "language_info": {
   "codemirror_mode": {
    "name": "ipython",
    "version": 3
   },
   "file_extension": ".py",
   "mimetype": "text/x-python",
   "name": "python",
   "nbconvert_exporter": "python",
   "pygments_lexer": "ipython3",
   "version": "3.8.5"
  },
  "toc": {
   "base_numbering": 1,
   "nav_menu": {},
   "number_sections": true,
   "sideBar": true,
   "skip_h1_title": false,
   "title_cell": "Table of Contents",
   "title_sidebar": "Contents",
   "toc_cell": false,
   "toc_position": {},
   "toc_section_display": true,
   "toc_window_display": false
  }
 },
 "nbformat": 4,
 "nbformat_minor": 4
}
