{
 "cells": [
  {
   "cell_type": "code",
   "execution_count": 1,
   "metadata": {},
   "outputs": [],
   "source": [
    "import numpy as np\n",
    "import pandas as pd\n",
    "import openpyxl\n",
    "import os"
   ]
  },
  {
   "cell_type": "code",
   "execution_count": 2,
   "metadata": {},
   "outputs": [],
   "source": [
    "filedata_fname = 'filelist_glutgaba_25012022.xlsx'\n",
    "metadata_fname = 'metadata_glutgaba_25012022.xlsx'"
   ]
  },
  {
   "cell_type": "code",
   "execution_count": 3,
   "metadata": {},
   "outputs": [],
   "source": [
    "df_filedata = pd.read_excel(filedata_fname, sheet_name=None, engine='openpyxl')\n",
    "df_metadata = pd.read_excel(metadata_fname, engine='openpyxl')"
   ]
  },
  {
   "cell_type": "code",
   "execution_count": 4,
   "metadata": {},
   "outputs": [
    {
     "data": {
      "text/plain": [
       "dict_keys(['Wild type', 'Ketamine 100uM', 'Metoprolol 100uM', 'NBQX 10uM', 'GYKI52466 20uM', 'Phenoxybenzamine 100uM', 'Reserpine 65uM', 'Ketanserin 500nM', 'DDC>hM3Dmcherry ', 'DDC>hM3Dmcherry + CNO', 'DDC>hM4Dmcherry ', 'DDC>hM4Dmcherry + CNO', 'CNQX 100uM', 'TH>hM3Dmcherry', 'TH>hM3Dmcherry + CNO', 'Lamotrigine isethionate 100uM', 'GYKI53655 100uM', 'PCD 100uM', 'AP5 100uM', 'DL-THA 1mM', 'TH>hM4Dmcherry', 'TH>hM4Dmcherry + CNO', 'VGLUT KH.C3.324>hm3D-cherry>unc', 'Sheet31', 'VGLUT KH.C3.324>hm4D-cherry>unc', 'Sheet32', 'KH.C2.526 VGAT >hm3D-cherry>unc', 'Sheet33', 'KH.C2.526 VGAT >hm4D-cherry>unc', 'Sheet34'])"
      ]
     },
     "execution_count": 4,
     "metadata": {},
     "output_type": "execute_result"
    }
   ],
   "source": [
    "df_filedata.keys()"
   ]
  },
  {
   "cell_type": "code",
   "execution_count": 5,
   "metadata": {},
   "outputs": [
    {
     "name": "stdout",
     "output_type": "stream",
     "text": [
      "Wild type: ['None_None_None' 'none_None_None'] : 580\n",
      "Ketamine 100uM: ['Ketamine 100uM_None_None' 'Ketamine100uM_None_None'] : 60\n",
      "Metoprolol 100uM: ['Metoprolol 100uM_None_None'] : 60\n",
      "NBQX 10uM: ['NBQX 10uM_None_None'] : 60\n",
      "GYKI52466 20uM: ['GYKI52466 20uM_None_None'] : 62\n",
      "Phenoxybenzamine 100uM: ['Phenoxybenzamine 100uM_None_None'] : 60\n",
      "Reserpine 65uM: ['Reserpine 65uM_None_None'] : 65\n",
      "Ketanserin 500nM: ['Ketanserin500nM_None_None' 'Ketanserine 500nM_None_None'] : 64\n",
      "DDC>hM3Dmcherry : ['None_DDChM3D_None'] : 128\n",
      "DDC>hM3Dmcherry + CNO: ['CNO_DDChM3D_None'] : 124\n",
      "DDC>hM4Dmcherry : ['None_DDChM4D_None'] : 138\n",
      "DDC>hM4Dmcherry + CNO: ['CNO_DDChM4D_None'] : 120\n",
      "CNQX 100uM: ['CNQX 100uM_None_None'] : 60\n",
      "TH>hM3Dmcherry: ['None_THhM3D_None'] : 126\n",
      "TH>hM3Dmcherry + CNO: ['CNO_THhM3D_None'] : 120\n",
      "Lamotrigine isethionate 100uM: ['Lamotrigine isethionate 100uM_None_None'] : 60\n",
      "GYKI53655 100uM: ['GYKI-53655 100uM_None_None'] : 68\n",
      "PCD 100uM: ['PCD 100uM_None_None'] : 60\n",
      "AP5 100uM: ['AP5 100uM_None_None'] : 60\n",
      "DL-THA 1mM: ['DL-THA 1mM_None_None'] : 68\n",
      "TH>hM4Dmcherry: ['None_THh4MD_None' 'None_THhM4D_None'] : 120\n",
      "TH>hM4Dmcherry + CNO: ['CNO_THhM4D_None'] : 120\n",
      "VGLUT KH.C3.324>hm3D-cherry>unc: ['None_VGLUThm3D_None'] : 120\n",
      "Sheet31: ['CNO_VGLUThm3D_None'] : 120\n",
      "VGLUT KH.C3.324>hm4D-cherry>unc: ['None_VGLUThm4D_None'] : 120\n",
      "Sheet32: ['CNO_VGLUThm4D_None'] : 120\n",
      "KH.C2.526 VGAT >hm3D-cherry>unc: ['None_VGAThm3D_None'] : 122\n",
      "Sheet33: ['CNO_VGAThm3D_None'] : 120\n",
      "KH.C2.526 VGAT >hm4D-cherry>unc: ['None_VGAThm4D_None'] : 120\n",
      "Sheet34: ['CNO_VGAThm4D_None'] : 120\n"
     ]
    }
   ],
   "source": [
    "sheet_dgtag_dict = {}\n",
    "sheet_nvideos_dict = {}\n",
    "for sheet_key in df_filedata.keys():\n",
    "    df_meike_drug = pd.read_excel(filedata_fname, sheet_name=sheet_key, engine='openpyxl')\n",
    "    drug_genetics_tag = np.unique(list(df_meike_drug.exp_id.apply(lambda x:'_'.join(x.split('_')[-3:]))))\n",
    "    for dgtag in drug_genetics_tag:\n",
    "        sheet_dgtag_dict[dgtag] = sheet_key\n",
    "    sheet_nvideos_dict[sheet_key] = len(df_meike_drug.index)\n",
    "    print(f'{sheet_key}: {drug_genetics_tag} : {len(df_meike_drug.index)}')"
   ]
  },
  {
   "cell_type": "code",
   "execution_count": 6,
   "metadata": {},
   "outputs": [],
   "source": [
    "drives_dict = {'1':'Drive_LynnAartsTracking', \n",
    "            '2':'Drive_LEATracking2',\n",
    "            '3':'LEA Tracking 3',\n",
    "            '4':'tracking Amandine 1',\n",
    "            '5':'Tracking Amandine 2',\n",
    "            '6':'Meike Drive1 Tracking',\n",
    "            '7': 'Meike drive 3 tracking 2',\n",
    "            '8': 'Meike drive 4 tracking 3',\n",
    "            '9': 'Meike drive 5 tracking 4'}"
   ]
  },
  {
   "cell_type": "code",
   "execution_count": 7,
   "metadata": {},
   "outputs": [],
   "source": [
    "# Create a dataframe from the analysed results \n",
    "\n",
    "dlcdata_path = '/data/temp/athira/dlc_analysis/'\n",
    "import glob\n",
    "\n",
    "from pathlib import Path\n",
    "\n",
    "dict_dlcdata = {}\n",
    "dict_dlcdata['filepath'] = []\n",
    "dict_dlcdata['filename'] = []\n",
    "dict_dlcdata['drug'] = [] \n",
    "dict_dlcdata['folder'] = []\n",
    "\n",
    "list_pathnamesobjs = Path(dlcdata_path).rglob('*.h5')\n",
    "for path in list_pathnamesobjs:\n",
    "    \n",
    "    dict_dlcdata['filepath'].append(path.parent.as_posix())\n",
    "    dict_dlcdata['filename'].append(path.name) \n",
    "    dict_dlcdata['drug'].append(path.parts[-2]) \n",
    "    dict_dlcdata['folder'].append(path.parts[-3])"
   ]
  },
  {
   "cell_type": "code",
   "execution_count": 8,
   "metadata": {},
   "outputs": [
    {
     "data": {
      "text/html": [
       "<div>\n",
       "<style scoped>\n",
       "    .dataframe tbody tr th:only-of-type {\n",
       "        vertical-align: middle;\n",
       "    }\n",
       "\n",
       "    .dataframe tbody tr th {\n",
       "        vertical-align: top;\n",
       "    }\n",
       "\n",
       "    .dataframe thead th {\n",
       "        text-align: right;\n",
       "    }\n",
       "</style>\n",
       "<table border=\"1\" class=\"dataframe\">\n",
       "  <thead>\n",
       "    <tr style=\"text-align: right;\">\n",
       "      <th></th>\n",
       "      <th>filepath</th>\n",
       "      <th>filename</th>\n",
       "      <th>drug</th>\n",
       "      <th>folder</th>\n",
       "    </tr>\n",
       "  </thead>\n",
       "  <tbody>\n",
       "    <tr>\n",
       "      <th>0</th>\n",
       "      <td>/data/temp/athira/dlc_analysis/dlc_analysis_me...</td>\n",
       "      <td>20211202_125413_1_15m0s_None_None_None_INVERTE...</td>\n",
       "      <td>Wildtype</td>\n",
       "      <td>dlc_analysis_meike_drugsWT_v4</td>\n",
       "    </tr>\n",
       "    <tr>\n",
       "      <th>1</th>\n",
       "      <td>/data/temp/athira/dlc_analysis/dlc_analysis_me...</td>\n",
       "      <td>20211202_101930_1_15m0s_None_None_None_INVERTE...</td>\n",
       "      <td>Wildtype</td>\n",
       "      <td>dlc_analysis_meike_drugsWT_v4</td>\n",
       "    </tr>\n",
       "    <tr>\n",
       "      <th>2</th>\n",
       "      <td>/data/temp/athira/dlc_analysis/dlc_analysis_me...</td>\n",
       "      <td>20211202_120724_1_15m0s_None_None_None_INVERTE...</td>\n",
       "      <td>Wildtype</td>\n",
       "      <td>dlc_analysis_meike_drugsWT_v4</td>\n",
       "    </tr>\n",
       "    <tr>\n",
       "      <th>3</th>\n",
       "      <td>/data/temp/athira/dlc_analysis/dlc_analysis_me...</td>\n",
       "      <td>20211202_113400_1_15m0s_None_None_None_INVERTE...</td>\n",
       "      <td>Wildtype</td>\n",
       "      <td>dlc_analysis_meike_drugsWT_v4</td>\n",
       "    </tr>\n",
       "    <tr>\n",
       "      <th>4</th>\n",
       "      <td>/data/temp/athira/dlc_analysis/dlc_analysis_me...</td>\n",
       "      <td>20211202_103431_1_15m0s_None_None_None_INVERTE...</td>\n",
       "      <td>Wildtype</td>\n",
       "      <td>dlc_analysis_meike_drugsWT_v4</td>\n",
       "    </tr>\n",
       "    <tr>\n",
       "      <th>...</th>\n",
       "      <td>...</td>\n",
       "      <td>...</td>\n",
       "      <td>...</td>\n",
       "      <td>...</td>\n",
       "    </tr>\n",
       "    <tr>\n",
       "      <th>4919</th>\n",
       "      <td>/data/temp/athira/dlc_analysis/dlc_analysis_me...</td>\n",
       "      <td>20211005_162645_1_15m0s_CNO_THhM3D_None_INVERT...</td>\n",
       "      <td>THhM3DmcherryCNO</td>\n",
       "      <td>dlc_analysis_meike_drugsWT_v2</td>\n",
       "    </tr>\n",
       "    <tr>\n",
       "      <th>4920</th>\n",
       "      <td>/data/temp/athira/dlc_analysis/dlc_analysis_me...</td>\n",
       "      <td>20211005_140538_1_15m0s_CNO_THhM3D_None_INVERT...</td>\n",
       "      <td>THhM3DmcherryCNO</td>\n",
       "      <td>dlc_analysis_meike_drugsWT_v2</td>\n",
       "    </tr>\n",
       "    <tr>\n",
       "      <th>4921</th>\n",
       "      <td>/data/temp/athira/dlc_analysis/dlc_analysis_me...</td>\n",
       "      <td>20211005_135035_1_15m0s_CNO_THhM3D_None_INVERT...</td>\n",
       "      <td>THhM3DmcherryCNO</td>\n",
       "      <td>dlc_analysis_meike_drugsWT_v2</td>\n",
       "    </tr>\n",
       "    <tr>\n",
       "      <th>4922</th>\n",
       "      <td>/data/temp/athira/dlc_analysis/dlc_analysis_me...</td>\n",
       "      <td>20211005_143719_1_15m0s_CNO_THhM3D_None_INVERT...</td>\n",
       "      <td>THhM3DmcherryCNO</td>\n",
       "      <td>dlc_analysis_meike_drugsWT_v2</td>\n",
       "    </tr>\n",
       "    <tr>\n",
       "      <th>4923</th>\n",
       "      <td>/data/temp/athira/dlc_analysis/dlc_analysis_me...</td>\n",
       "      <td>20211005_135037_1_15m0s_CNO_THhM3D_None_INVERT...</td>\n",
       "      <td>THhM3DmcherryCNO</td>\n",
       "      <td>dlc_analysis_meike_drugsWT_v2</td>\n",
       "    </tr>\n",
       "  </tbody>\n",
       "</table>\n",
       "<p>4924 rows × 4 columns</p>\n",
       "</div>"
      ],
      "text/plain": [
       "                                               filepath  \\\n",
       "0     /data/temp/athira/dlc_analysis/dlc_analysis_me...   \n",
       "1     /data/temp/athira/dlc_analysis/dlc_analysis_me...   \n",
       "2     /data/temp/athira/dlc_analysis/dlc_analysis_me...   \n",
       "3     /data/temp/athira/dlc_analysis/dlc_analysis_me...   \n",
       "4     /data/temp/athira/dlc_analysis/dlc_analysis_me...   \n",
       "...                                                 ...   \n",
       "4919  /data/temp/athira/dlc_analysis/dlc_analysis_me...   \n",
       "4920  /data/temp/athira/dlc_analysis/dlc_analysis_me...   \n",
       "4921  /data/temp/athira/dlc_analysis/dlc_analysis_me...   \n",
       "4922  /data/temp/athira/dlc_analysis/dlc_analysis_me...   \n",
       "4923  /data/temp/athira/dlc_analysis/dlc_analysis_me...   \n",
       "\n",
       "                                               filename              drug  \\\n",
       "0     20211202_125413_1_15m0s_None_None_None_INVERTE...          Wildtype   \n",
       "1     20211202_101930_1_15m0s_None_None_None_INVERTE...          Wildtype   \n",
       "2     20211202_120724_1_15m0s_None_None_None_INVERTE...          Wildtype   \n",
       "3     20211202_113400_1_15m0s_None_None_None_INVERTE...          Wildtype   \n",
       "4     20211202_103431_1_15m0s_None_None_None_INVERTE...          Wildtype   \n",
       "...                                                 ...               ...   \n",
       "4919  20211005_162645_1_15m0s_CNO_THhM3D_None_INVERT...  THhM3DmcherryCNO   \n",
       "4920  20211005_140538_1_15m0s_CNO_THhM3D_None_INVERT...  THhM3DmcherryCNO   \n",
       "4921  20211005_135035_1_15m0s_CNO_THhM3D_None_INVERT...  THhM3DmcherryCNO   \n",
       "4922  20211005_143719_1_15m0s_CNO_THhM3D_None_INVERT...  THhM3DmcherryCNO   \n",
       "4923  20211005_135037_1_15m0s_CNO_THhM3D_None_INVERT...  THhM3DmcherryCNO   \n",
       "\n",
       "                             folder  \n",
       "0     dlc_analysis_meike_drugsWT_v4  \n",
       "1     dlc_analysis_meike_drugsWT_v4  \n",
       "2     dlc_analysis_meike_drugsWT_v4  \n",
       "3     dlc_analysis_meike_drugsWT_v4  \n",
       "4     dlc_analysis_meike_drugsWT_v4  \n",
       "...                             ...  \n",
       "4919  dlc_analysis_meike_drugsWT_v2  \n",
       "4920  dlc_analysis_meike_drugsWT_v2  \n",
       "4921  dlc_analysis_meike_drugsWT_v2  \n",
       "4922  dlc_analysis_meike_drugsWT_v2  \n",
       "4923  dlc_analysis_meike_drugsWT_v2  \n",
       "\n",
       "[4924 rows x 4 columns]"
      ]
     },
     "execution_count": 8,
     "metadata": {},
     "output_type": "execute_result"
    }
   ],
   "source": [
    "df_dlc_glutgaba_data = pd.DataFrame.from_dict(dict_dlcdata)\n",
    "df_dlc_glutgaba_data"
   ]
  },
  {
   "cell_type": "code",
   "execution_count": 9,
   "metadata": {},
   "outputs": [
    {
     "data": {
      "text/plain": [
       "['AP5100uM',\n",
       " 'CNQX100uM',\n",
       " 'DDChM3Dmcherry',\n",
       " 'DDChM3DmcherryCNO',\n",
       " 'DDChM4Dmcherry',\n",
       " 'DDChM4DmcherryCNO',\n",
       " 'DL-THA1mM',\n",
       " 'GYKI5246620uM',\n",
       " 'GYKI53655100uM',\n",
       " 'KH.C2.526VGAThm3D-cherryCNO',\n",
       " 'KH.C2.526VGAThm3D-cherryunc',\n",
       " 'KH.C2.526VGAThm4D-cherryCNO',\n",
       " 'KH.C2.526VGAThm4D-cherryunc',\n",
       " 'Ketamine100uM',\n",
       " 'Ketanserin500nM',\n",
       " 'Lamotrigineisethionate100uM',\n",
       " 'Metoprolol100uM',\n",
       " 'NBQX10uM',\n",
       " 'PCD100uM',\n",
       " 'Phenoxybenzamine100uM',\n",
       " 'Reserpine65uM',\n",
       " 'THhM3Dmcherry',\n",
       " 'THhM3DmcherryCNO',\n",
       " 'THhM4Dmcherry',\n",
       " 'THhM4DmcherryCNO',\n",
       " 'VGLUTKH.C3.324hm3D-cherryunc',\n",
       " 'VGLUTKH.C3.324hm3DcherryCNO',\n",
       " 'VGLUTKH.C3.324hm4D-cherryunc',\n",
       " 'VGLUTKH.C3.324hm4DcherryCNO',\n",
       " 'Wildtype',\n",
       " 'dlc_analysis_lea_WT',\n",
       " 'results_lea_WT',\n",
       " 'results_lea_baclofen',\n",
       " 'results_lea_bicucullin',\n",
       " 'results_lea_dmso',\n",
       " 'results_lea_kyna',\n",
       " 'results_lea_perampanel',\n",
       " 'results_lea_picro1',\n",
       " 'results_lea_picro100',\n",
       " 'results_lea_prop',\n",
       " 'results_lea_ptz1',\n",
       " 'results_lea_ptz100',\n",
       " 'results_lea_spentol',\n",
       " 'results_lea_stry',\n",
       " 'results_lea_vpa50m',\n",
       " 'results_lea_vpa50u']"
      ]
     },
     "execution_count": 9,
     "metadata": {},
     "output_type": "execute_result"
    }
   ],
   "source": [
    "sorted(list(df_dlc_glutgaba_data.drug.unique()))"
   ]
  },
  {
   "cell_type": "code",
   "execution_count": 10,
   "metadata": {},
   "outputs": [
    {
     "data": {
      "text/plain": [
       "['dlc_analysis',\n",
       " 'dlc_analysis_lea_WT',\n",
       " 'dlc_analysis_lea_drugs',\n",
       " 'dlc_analysis_meike_drugsWT',\n",
       " 'dlc_analysis_meike_drugsWT_v2',\n",
       " 'dlc_analysis_meike_drugsWT_v3',\n",
       " 'dlc_analysis_meike_drugsWT_v4']"
      ]
     },
     "execution_count": 10,
     "metadata": {},
     "output_type": "execute_result"
    }
   ],
   "source": [
    "sorted(list(df_dlc_glutgaba_data.folder.unique()))"
   ]
  },
  {
   "cell_type": "code",
   "execution_count": 11,
   "metadata": {},
   "outputs": [],
   "source": [
    "\n",
    "list_pathnamesobjs = Path(dlcdata_path).rglob('*.h5')"
   ]
  },
  {
   "cell_type": "code",
   "execution_count": 12,
   "metadata": {},
   "outputs": [],
   "source": [
    "# for x in list_pathnamesobjs:\n",
    "#     print(x.name)"
   ]
  },
  {
   "cell_type": "code",
   "execution_count": 13,
   "metadata": {},
   "outputs": [],
   "source": [
    " dict_modify = {'AP5100uM':['AP5100uM', False, False, 'DMSO', np.nan],\n",
    " 'CNQX100uM':['CNQX100uM', False, False, 'DMSO', np.nan],\n",
    " 'DDChM3Dmcherry':['DDChM3Dmcherry',True, np.nan, np.nan, False],\n",
    " 'DDChM3DmcherryCNO':['DDChM3DmcherryCNO',True, np.nan, np.nan, True],\n",
    " 'DDChM4Dmcherry':['DDChM4Dmcherry',True, np.nan, np.nan, False],\n",
    " 'DDChM4DmcherryCNO':['DDChM4DmcherryCNO',True, np.nan, np.nan, True],\n",
    " 'DL-THA1mM':['DL-THA1mM',False, False, 'DMSO', np.nan],\n",
    " 'GYKI5246620uM':['GYKI5246620uM', False, False, 'DMSO', np.nan],\n",
    " 'GYKI53655100uM':['GYKI53655100uM', False, False, 'DMSO', np.nan],\n",
    " 'KH.C2.526VGAThm3D-cherryunc':['KH.C2.526VGAThm3Dcherry',True, np.nan, np.nan, False],\n",
    " 'KH.C2.526VGAThm3D-cherryCNO':['KH.C2.526VGAThm3DcherryCNO',True, np.nan, np.nan, True],\n",
    " 'KH.C2.526VGAThm4D-cherryunc':['KH.C2.526VGAThm4Dcherry',True, np.nan, np.nan, False],\n",
    " 'KH.C2.526VGAThm4D-cherryCNO':['KH.C2.526VGAThm4DcherryCNO',True, np.nan, np.nan, True],\n",
    " 'Ketamine100uM':['Ketamine100uM', False, False, 'DMSO', np.nan],\n",
    " 'Ketanserin500nM':['Ketanserin500nM', False, False, 'DMSO', np.nan],\n",
    " 'Lamotrigineisethionate100uM':['Lamotrigineisethionate100uM', False, False, 'DMSO', np.nan],\n",
    " 'Metoprolol100uM':['Metoprolol100uM', False, False, 'DMSO', np.nan],\n",
    " 'NBQX10uM':['NBQX10uM', False, False, 'DMSO', np.nan],\n",
    " 'PCD100uM':['PCD100uM', False, False, 'DMSO', np.nan],\n",
    " 'Phenoxybenzamine100uM':['Phenoxybenzamine100uM', False, False, 'DMSO', np.nan],\n",
    " 'Reserpine65uM':['Reserpine65uM', False, False, 'DMSO', np.nan],\n",
    " 'THhM3Dmcherry':['THhM3Dmcherry',True, np.nan, np.nan, False],\n",
    " 'THhM3DmcherryCNO':['THhM3DmcherryCNO',True, np.nan, np.nan, True],\n",
    " 'THhM4Dmcherry':['THhM4Dmcherry',True, np.nan, np.nan, False],\n",
    " 'THhM4DmcherryCNO':['THhM4DmcherryCNO',True, np.nan, np.nan, True],\n",
    " 'VGLUTKH.C3.324hm3D-cherryunc':['VGLUTKH.C3.324hm3Dcherry',True, np.nan, np.nan, False],\n",
    " 'VGLUTKH.C3.324hm3DcherryCNO':['VGLUTKH.C3.324hm3DcherryCNO',True, np.nan, np.nan, True],\n",
    " 'VGLUTKH.C3.324hm4D-cherryunc':['VGLUTKH.C3.324hm4Dcherry',True, np.nan, np.nan, False],\n",
    " 'VGLUTKH.C3.324hm4DcherryCNO':['VGLUTKH.C3.324hm4DcherryCNO',True, np.nan, np.nan, True],\n",
    " 'Wildtype':['Wildtype', False, True, np.nan, np.nan],\n",
    " 'results_lea_WT':['Wildtype', False, False, 'DMSO', np.nan],\n",
    " 'results_lea_baclofen':['Baclofen50uM', False, False, 'DMSO', np.nan],\n",
    " 'results_lea_bicucullin':['Bicucullin100uM', False, False, 'DMSO', np.nan],\n",
    " 'results_lea_dmso':['DMSO', False, True, np.nan, np.nan],\n",
    " 'results_lea_kyna':['KynurenicAcid100uM', False, False, 'DMSO', np.nan],\n",
    " 'results_lea_perampanel':['Perampanel15uM', False, False, 'DMSO', np.nan],\n",
    " 'results_lea_picro1':['Picrotoxin1mM', False, False, 'DMSO', np.nan],\n",
    " 'results_lea_picro100':['Picrotoxin100uM', False, False, 'DMSO', np.nan],\n",
    " 'results_lea_prop':['Propranol50uM', False, False, 'Wildtype', np.nan],\n",
    " 'results_lea_ptz1':['PTZ1mM', False, False, 'DMSO', np.nan],\n",
    " 'results_lea_ptz100':['PTZ100uM', False, False, 'DMSO', np.nan],\n",
    " 'results_lea_spentol':['Stiripentol50uM', False, False, 'DMSO', np.nan],\n",
    " 'results_lea_stry':['Strychnine10uM', False, False, 'DMSO', np.nan],               \n",
    " 'results_lea_vpa50u':['ValproidAcid50uM', False, False, 'DMSO', np.nan],\n",
    " 'results_lea_vpa50m':['ValproicAcid50mM', False, False, 'DMSO', np.nan]}"
   ]
  },
  {
   "cell_type": "code",
   "execution_count": 14,
   "metadata": {},
   "outputs": [
    {
     "name": "stdout",
     "output_type": "stream",
     "text": [
      "AP5100uM\n",
      "CNQX100uM\n",
      "DDChM3Dmcherry\n",
      "DDChM3DmcherryCNO\n",
      "DDChM4Dmcherry\n",
      "DDChM4DmcherryCNO\n",
      "DL-THA1mM\n",
      "GYKI5246620uM\n",
      "GYKI53655100uM\n",
      "KH.C2.526VGAThm3D-cherryunc\n",
      "KH.C2.526VGAThm3D-cherryCNO\n",
      "KH.C2.526VGAThm4D-cherryunc\n",
      "KH.C2.526VGAThm4D-cherryCNO\n",
      "Ketamine100uM\n",
      "Ketanserin500nM\n",
      "Lamotrigineisethionate100uM\n",
      "Metoprolol100uM\n",
      "NBQX10uM\n",
      "PCD100uM\n",
      "Phenoxybenzamine100uM\n",
      "Reserpine65uM\n",
      "THhM3Dmcherry\n",
      "THhM3DmcherryCNO\n",
      "THhM4Dmcherry\n",
      "THhM4DmcherryCNO\n",
      "VGLUTKH.C3.324hm3D-cherryunc\n",
      "VGLUTKH.C3.324hm3DcherryCNO\n",
      "VGLUTKH.C3.324hm4D-cherryunc\n",
      "VGLUTKH.C3.324hm4DcherryCNO\n",
      "Wildtype\n",
      "results_lea_WT\n",
      "results_lea_baclofen\n",
      "results_lea_bicucullin\n",
      "results_lea_dmso\n",
      "results_lea_kyna\n",
      "results_lea_perampanel\n",
      "results_lea_picro1\n",
      "results_lea_picro100\n",
      "results_lea_prop\n",
      "results_lea_ptz1\n",
      "results_lea_ptz100\n",
      "results_lea_spentol\n",
      "results_lea_stry\n",
      "results_lea_vpa50u\n",
      "results_lea_vpa50m\n"
     ]
    }
   ],
   "source": [
    "for key in dict_modify.keys():\n",
    "    print(key)\n",
    "    df_dlc_glutgaba_data.loc[df_dlc_glutgaba_data['drug']==key,'drug_std'] = dict_modify[key][0]\n",
    "    df_dlc_glutgaba_data.loc[df_dlc_glutgaba_data['drug']==key,'is_dechorionated'] = dict_modify[key][1]\n",
    "    df_dlc_glutgaba_data.loc[df_dlc_glutgaba_data['drug']==key,'is_control'] = dict_modify[key][2]\n",
    "    df_dlc_glutgaba_data.loc[df_dlc_glutgaba_data['drug']==key,'dissolved_in'] = dict_modify[key][3]\n",
    "    df_dlc_glutgaba_data.loc[df_dlc_glutgaba_data['drug']==key,'with_CNO'] = dict_modify[key][4]"
   ]
  },
  {
   "cell_type": "code",
   "execution_count": null,
   "metadata": {},
   "outputs": [],
   "source": [
    "key"
   ]
  },
  {
   "cell_type": "code",
   "execution_count": null,
   "metadata": {},
   "outputs": [],
   "source": [
    "len(list(df_dlc_glutgaba_data[df_dlc_glutgaba_data['is_dechorionated']==False].drug_std.unique()))\n"
   ]
  },
  {
   "cell_type": "code",
   "execution_count": null,
   "metadata": {},
   "outputs": [],
   "source": [
    "df_metadata_drugs = df_dlc_glutgaba_data[df_dlc_glutgaba_data['is_dechorionated']==False]\n",
    "# df_metadata_drugs.to_pickle('/data/temp/athira/dlc_analysis/ref_metadataframe_drugs_Jan26.pickle')"
   ]
  },
  {
   "cell_type": "code",
   "execution_count": null,
   "metadata": {},
   "outputs": [],
   "source": [
    "df_metadata_drugs.groupby('drug_std').filename.agg(['count'])"
   ]
  },
  {
   "cell_type": "code",
   "execution_count": null,
   "metadata": {},
   "outputs": [],
   "source": [
    "df_metadata_drugs.drug_std.unique()"
   ]
  },
  {
   "cell_type": "code",
   "execution_count": null,
   "metadata": {},
   "outputs": [],
   "source": [
    "len(df_metadata_drugs.drug_std.unique())"
   ]
  },
  {
   "cell_type": "code",
   "execution_count": 17,
   "metadata": {},
   "outputs": [],
   "source": [
    "df_metadata_dreadds = df_dlc_glutgaba_data[df_dlc_glutgaba_data['is_dechorionated']==True]\n",
    "df_metadata_dreadds.to_pickle('/data/temp/athira/dlc_analysis/ref_metadataframe_dreadds_Feb06.pickle')"
   ]
  },
  {
   "cell_type": "code",
   "execution_count": 18,
   "metadata": {},
   "outputs": [
    {
     "data": {
      "text/html": [
       "<div>\n",
       "<style scoped>\n",
       "    .dataframe tbody tr th:only-of-type {\n",
       "        vertical-align: middle;\n",
       "    }\n",
       "\n",
       "    .dataframe tbody tr th {\n",
       "        vertical-align: top;\n",
       "    }\n",
       "\n",
       "    .dataframe thead th {\n",
       "        text-align: right;\n",
       "    }\n",
       "</style>\n",
       "<table border=\"1\" class=\"dataframe\">\n",
       "  <thead>\n",
       "    <tr style=\"text-align: right;\">\n",
       "      <th></th>\n",
       "      <th>count</th>\n",
       "    </tr>\n",
       "    <tr>\n",
       "      <th>drug_std</th>\n",
       "      <th></th>\n",
       "    </tr>\n",
       "  </thead>\n",
       "  <tbody>\n",
       "    <tr>\n",
       "      <th>DDChM3Dmcherry</th>\n",
       "      <td>128</td>\n",
       "    </tr>\n",
       "    <tr>\n",
       "      <th>DDChM3DmcherryCNO</th>\n",
       "      <td>124</td>\n",
       "    </tr>\n",
       "    <tr>\n",
       "      <th>DDChM4Dmcherry</th>\n",
       "      <td>138</td>\n",
       "    </tr>\n",
       "    <tr>\n",
       "      <th>DDChM4DmcherryCNO</th>\n",
       "      <td>120</td>\n",
       "    </tr>\n",
       "    <tr>\n",
       "      <th>KH.C2.526VGAThm3Dcherry</th>\n",
       "      <td>120</td>\n",
       "    </tr>\n",
       "    <tr>\n",
       "      <th>KH.C2.526VGAThm3DcherryCNO</th>\n",
       "      <td>120</td>\n",
       "    </tr>\n",
       "    <tr>\n",
       "      <th>KH.C2.526VGAThm4Dcherry</th>\n",
       "      <td>118</td>\n",
       "    </tr>\n",
       "    <tr>\n",
       "      <th>KH.C2.526VGAThm4DcherryCNO</th>\n",
       "      <td>120</td>\n",
       "    </tr>\n",
       "    <tr>\n",
       "      <th>THhM3Dmcherry</th>\n",
       "      <td>126</td>\n",
       "    </tr>\n",
       "    <tr>\n",
       "      <th>THhM3DmcherryCNO</th>\n",
       "      <td>120</td>\n",
       "    </tr>\n",
       "    <tr>\n",
       "      <th>THhM4Dmcherry</th>\n",
       "      <td>120</td>\n",
       "    </tr>\n",
       "    <tr>\n",
       "      <th>THhM4DmcherryCNO</th>\n",
       "      <td>120</td>\n",
       "    </tr>\n",
       "    <tr>\n",
       "      <th>VGLUTKH.C3.324hm3Dcherry</th>\n",
       "      <td>120</td>\n",
       "    </tr>\n",
       "    <tr>\n",
       "      <th>VGLUTKH.C3.324hm3DcherryCNO</th>\n",
       "      <td>120</td>\n",
       "    </tr>\n",
       "    <tr>\n",
       "      <th>VGLUTKH.C3.324hm4Dcherry</th>\n",
       "      <td>120</td>\n",
       "    </tr>\n",
       "    <tr>\n",
       "      <th>VGLUTKH.C3.324hm4DcherryCNO</th>\n",
       "      <td>120</td>\n",
       "    </tr>\n",
       "  </tbody>\n",
       "</table>\n",
       "</div>"
      ],
      "text/plain": [
       "                             count\n",
       "drug_std                          \n",
       "DDChM3Dmcherry                 128\n",
       "DDChM3DmcherryCNO              124\n",
       "DDChM4Dmcherry                 138\n",
       "DDChM4DmcherryCNO              120\n",
       "KH.C2.526VGAThm3Dcherry        120\n",
       "KH.C2.526VGAThm3DcherryCNO     120\n",
       "KH.C2.526VGAThm4Dcherry        118\n",
       "KH.C2.526VGAThm4DcherryCNO     120\n",
       "THhM3Dmcherry                  126\n",
       "THhM3DmcherryCNO               120\n",
       "THhM4Dmcherry                  120\n",
       "THhM4DmcherryCNO               120\n",
       "VGLUTKH.C3.324hm3Dcherry       120\n",
       "VGLUTKH.C3.324hm3DcherryCNO    120\n",
       "VGLUTKH.C3.324hm4Dcherry       120\n",
       "VGLUTKH.C3.324hm4DcherryCNO    120"
      ]
     },
     "execution_count": 18,
     "metadata": {},
     "output_type": "execute_result"
    }
   ],
   "source": [
    "df_metadata_dreadds.groupby('drug_std').filename.agg(['count'])"
   ]
  },
  {
   "cell_type": "code",
   "execution_count": null,
   "metadata": {},
   "outputs": [],
   "source": [
    "sorted(df_metadata_dreadds.drug_std.unique())"
   ]
  },
  {
   "cell_type": "code",
   "execution_count": null,
   "metadata": {},
   "outputs": [],
   "source": []
  }
 ],
 "metadata": {
  "kernelspec": {
   "display_name": "Python 3",
   "language": "python",
   "name": "python3"
  },
  "language_info": {
   "codemirror_mode": {
    "name": "ipython",
    "version": 3
   },
   "file_extension": ".py",
   "mimetype": "text/x-python",
   "name": "python",
   "nbconvert_exporter": "python",
   "pygments_lexer": "ipython3",
   "version": "3.8.5"
  },
  "toc": {
   "base_numbering": 1,
   "nav_menu": {},
   "number_sections": true,
   "sideBar": true,
   "skip_h1_title": false,
   "title_cell": "Table of Contents",
   "title_sidebar": "Contents",
   "toc_cell": false,
   "toc_position": {},
   "toc_section_display": true,
   "toc_window_display": false
  }
 },
 "nbformat": 4,
 "nbformat_minor": 4
}
