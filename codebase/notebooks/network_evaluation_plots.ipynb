{
 "cells": [
  {
   "cell_type": "code",
   "execution_count": 8,
   "id": "b5295979",
   "metadata": {},
   "outputs": [],
   "source": [
    "import pandas as pd\n",
    "import numpy as np\n",
    "import matplotlib.pyplot as plt\n",
    "import seaborn as sns\n",
    "import os"
   ]
  },
  {
   "cell_type": "code",
   "execution_count": 4,
   "id": "d2ab5903",
   "metadata": {},
   "outputs": [
    {
     "name": "stdout",
     "output_type": "stream",
     "text": [
      "/work/athira/Ciona_tracking-Athira-2021-05-25\r\n"
     ]
    }
   ],
   "source": [
    "!pwd"
   ]
  },
  {
   "cell_type": "code",
   "execution_count": 12,
   "id": "c4a13eef",
   "metadata": {},
   "outputs": [],
   "source": [
    "config_path = '/work/athira/Ciona_tracking-Athira-2021-05-25/config.yaml'\n",
    "\n",
    "df_train_stats_list = []\n",
    "for shuffle in [1,2,3,4]:\n",
    "    train_folder_path = f'./dlc-models/iteration-0/Ciona_trackingMay25-trainset95shuffle{shuffle}/train/'\n",
    "    train_stats_fn = 'learning_stats.csv'\n",
    "    evals_folder_path = f'./evaluation-results/iteration-0/Ciona_trackingMay25-trainset95shuffle{shuffle}/'\n",
    "    df_train_stats = pd.read_csv(os.path.join(train_folder_path, train_stats_fn), header=None, \n",
    "                             names = ['iteration','loss','lr'])\n",
    "    df_train_stats_list.append(df_train_stats)"
   ]
  },
  {
   "cell_type": "code",
   "execution_count": 17,
   "id": "de566831",
   "metadata": {},
   "outputs": [
    {
     "data": {
      "text/html": [
       "<div>\n",
       "<style scoped>\n",
       "    .dataframe tbody tr th:only-of-type {\n",
       "        vertical-align: middle;\n",
       "    }\n",
       "\n",
       "    .dataframe tbody tr th {\n",
       "        vertical-align: top;\n",
       "    }\n",
       "\n",
       "    .dataframe thead th {\n",
       "        text-align: right;\n",
       "    }\n",
       "</style>\n",
       "<table border=\"1\" class=\"dataframe\">\n",
       "  <thead>\n",
       "    <tr style=\"text-align: right;\">\n",
       "      <th></th>\n",
       "      <th>iteration</th>\n",
       "      <th>loss</th>\n",
       "      <th>lr</th>\n",
       "    </tr>\n",
       "  </thead>\n",
       "  <tbody>\n",
       "    <tr>\n",
       "      <th>0</th>\n",
       "      <td>500</td>\n",
       "      <td>0.00169</td>\n",
       "      <td>0.005</td>\n",
       "    </tr>\n",
       "    <tr>\n",
       "      <th>1</th>\n",
       "      <td>1000</td>\n",
       "      <td>0.00167</td>\n",
       "      <td>0.005</td>\n",
       "    </tr>\n",
       "    <tr>\n",
       "      <th>2</th>\n",
       "      <td>1500</td>\n",
       "      <td>0.00175</td>\n",
       "      <td>0.005</td>\n",
       "    </tr>\n",
       "    <tr>\n",
       "      <th>3</th>\n",
       "      <td>2000</td>\n",
       "      <td>0.00159</td>\n",
       "      <td>0.005</td>\n",
       "    </tr>\n",
       "    <tr>\n",
       "      <th>4</th>\n",
       "      <td>2500</td>\n",
       "      <td>0.00162</td>\n",
       "      <td>0.005</td>\n",
       "    </tr>\n",
       "    <tr>\n",
       "      <th>...</th>\n",
       "      <td>...</td>\n",
       "      <td>...</td>\n",
       "      <td>...</td>\n",
       "    </tr>\n",
       "    <tr>\n",
       "      <th>782</th>\n",
       "      <td>391500</td>\n",
       "      <td>0.00116</td>\n",
       "      <td>0.020</td>\n",
       "    </tr>\n",
       "    <tr>\n",
       "      <th>783</th>\n",
       "      <td>392000</td>\n",
       "      <td>0.00110</td>\n",
       "      <td>0.020</td>\n",
       "    </tr>\n",
       "    <tr>\n",
       "      <th>784</th>\n",
       "      <td>392500</td>\n",
       "      <td>0.00122</td>\n",
       "      <td>0.020</td>\n",
       "    </tr>\n",
       "    <tr>\n",
       "      <th>785</th>\n",
       "      <td>393000</td>\n",
       "      <td>0.00116</td>\n",
       "      <td>0.020</td>\n",
       "    </tr>\n",
       "    <tr>\n",
       "      <th>786</th>\n",
       "      <td>393500</td>\n",
       "      <td>0.00113</td>\n",
       "      <td>0.020</td>\n",
       "    </tr>\n",
       "  </tbody>\n",
       "</table>\n",
       "<p>787 rows × 3 columns</p>\n",
       "</div>"
      ],
      "text/plain": [
       "     iteration     loss     lr\n",
       "0          500  0.00169  0.005\n",
       "1         1000  0.00167  0.005\n",
       "2         1500  0.00175  0.005\n",
       "3         2000  0.00159  0.005\n",
       "4         2500  0.00162  0.005\n",
       "..         ...      ...    ...\n",
       "782     391500  0.00116  0.020\n",
       "783     392000  0.00110  0.020\n",
       "784     392500  0.00122  0.020\n",
       "785     393000  0.00116  0.020\n",
       "786     393500  0.00113  0.020\n",
       "\n",
       "[787 rows x 3 columns]"
      ]
     },
     "execution_count": 17,
     "metadata": {},
     "output_type": "execute_result"
    }
   ],
   "source": [
    "df_train_stats_list[0]"
   ]
  },
  {
   "cell_type": "code",
   "execution_count": 50,
   "id": "681cb6fa",
   "metadata": {},
   "outputs": [],
   "source": [
    "import matplotlib.ticker as ticker"
   ]
  },
  {
   "cell_type": "code",
   "execution_count": 57,
   "id": "a95b42fc",
   "metadata": {},
   "outputs": [
    {
     "data": {
      "image/png": "[encoded data removed]",
      "text/plain": [
       "<Figure size 576x288 with 1 Axes>"
      ]
     },
     "metadata": {
      "needs_background": "light"
     },
     "output_type": "display_data"
    }
   ],
   "source": [
    "n_shuffles = len(df_train_stats_list)\n",
    "fig1, axes = plt.subplots(1,1, figsize = (8, 4))\n",
    "for shuf in range(1,n_shuffles):\n",
    "    plt.plot(df_train_stats_list[shuf].iteration, df_train_stats_list[shuf].loss, label = f'split{shuf}') \n",
    "    plt.xlabel('Iterations')\n",
    "    plt.ylabel('Cross entropy loss')\n",
    "    plt.gca().xaxis.set_major_formatter(ticker.FuncFormatter(lambda x, pos: '{:,.0f}'.format(x/1000) + 'K'))\n",
    "    plt.legend()"
   ]
  },
  {
   "cell_type": "code",
   "execution_count": 53,
   "id": "10234b79",
   "metadata": {},
   "outputs": [],
   "source": [
    "\n",
    "# fig1, axes = plt.subplots(n_shuffles,1, figsize = (8, n_shuffles*4), sharex=True, sharey=True)\n",
    "# for shuf in range(n_shuffles):\n",
    "#     axes[shuf].plot(df_train_stats_list[shuf].iteration, df_train_stats_list[shuf].loss) \n",
    "#     axes[shuf].set_xlabel('Iterations')\n",
    "#     axes[shuf].set_ylabel('Cross entropy loss')\n",
    "#     axes[shuf].xaxis.set_major_formatter(ticker.FuncFormatter(lambda x, pos: '{:,.0f}'.format(x/1000) + 'K'))\n",
    "   "
   ]
  },
  {
   "cell_type": "code",
   "execution_count": null,
   "id": "0da2ac67",
   "metadata": {},
   "outputs": [],
   "source": []
  }
 ],
 "metadata": {
  "kernelspec": {
   "display_name": "Python 3 (ipykernel)",
   "language": "python",
   "name": "python3"
  },
  "language_info": {
   "codemirror_mode": {
    "name": "ipython",
    "version": 3
   },
   "file_extension": ".py",
   "mimetype": "text/x-python",
   "name": "python",
   "nbconvert_exporter": "python",
   "pygments_lexer": "ipython3",
   "version": "3.8.5"
  },
  "toc": {
   "base_numbering": 1,
   "nav_menu": {},
   "number_sections": true,
   "sideBar": true,
   "skip_h1_title": false,
   "title_cell": "Table of Contents",
   "title_sidebar": "Contents",
   "toc_cell": false,
   "toc_position": {},
   "toc_section_display": true,
   "toc_window_display": false
  }
 },
 "nbformat": 4,
 "nbformat_minor": 5
}
