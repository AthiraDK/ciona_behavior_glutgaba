{
 "cells": [
  {
   "cell_type": "code",
   "execution_count": 1,
   "metadata": {},
   "outputs": [],
   "source": [
    "import pandas as pd\n",
    "import numpy as np\n",
    "from scipy import stats\n",
    "\n",
    "import matplotlib as mpl\n",
    "import matplotlib.pyplot as plt\n",
    "import seaborn as sns\n",
    "\n",
    "import tqdm\n",
    "import itertools \n",
    "from ipywidgets import widgets\n",
    "from joblib import Parallel, delayed\n",
    "import os"
   ]
  },
  {
   "cell_type": "code",
   "execution_count": 3,
   "metadata": {},
   "outputs": [],
   "source": [
    "df_features_combined = pd.read_pickle('/data/temp/athira/dlc_analysis/feats_combined_glutgaba_drugs_Jan31.pickle')"
   ]
  },
  {
   "cell_type": "code",
   "execution_count": 4,
   "metadata": {},
   "outputs": [
    {
     "data": {
      "text/plain": [
       "array(['Wildtype', 'DL-THA1mM', 'Stiripentol50uM', 'PTZ100uM',\n",
       "       'Baclofen50uM', 'Strychnine10uM', 'KynurenicAcid100uM',\n",
       "       'Perampanel15uM', 'ValproidAcid50uM', 'PTZ1mM', 'Propranol50uM',\n",
       "       'Picrotoxin100uM', 'Picrotoxin1mM', 'ValproicAcid50mM',\n",
       "       'Bicucullin100uM', 'DMSO', 'Reserpine65uM', 'Ketamine100uM',\n",
       "       'Ketanserin500nM', 'Metoprolol100uM', 'GYKI5246620uM',\n",
       "       'Phenoxybenzamine100uM', 'NBQX10uM', 'Lamotrigineisethionate100uM',\n",
       "       'CNQX100uM', 'GYKI53655100uM', 'AP5100uM', 'PCD100uM'],\n",
       "      dtype=object)"
      ]
     },
     "execution_count": 4,
     "metadata": {},
     "output_type": "execute_result"
    }
   ],
   "source": [
    "df_features_combined.drug.unique()"
   ]
  },
  {
   "cell_type": "code",
   "execution_count": 5,
   "metadata": {},
   "outputs": [],
   "source": [
    "# df_features_combined"
   ]
  },
  {
   "cell_type": "code",
   "execution_count": 6,
   "metadata": {},
   "outputs": [],
   "source": [
    "params_list =  ['curv_neck',\n",
    "'curv_tail_base',\n",
    "'curv_tail_pre_mid',\n",
    "'curv_tail_mid',\n",
    "'curv_tail_post_mid',\n",
    "'curv_tail_tip',\n",
    "'speed_neck',   \n",
    "'speed_tail_base',   \n",
    "'speed_tail_pre_mid',\n",
    "'speed_tail_mid',\n",
    "'speed_tail_post_mid',\n",
    "'speed_tail_tip',\n",
    "'rel_tan_neck',\n",
    "'rel_tan_tail_base',\n",
    "'rel_tan_tail_pre_mid',\n",
    "'rel_tan_tail_mid',\n",
    "'rel_tan_tail_post_mid',\n",
    "'rel_tan_tail_tip',\n",
    "'ects_1',\n",
    "'ects_2',\n",
    "'ects_3',\n",
    "'ects_4',\n",
    "'ects_5',\n",
    "'ects_6',\n",
    "'quirkness']"
   ]
  },
  {
   "cell_type": "code",
   "execution_count": null,
   "metadata": {},
   "outputs": [],
   "source": [
    "results_folder_meike = '/data/temp/athira/dlc_analysis/Results/results_drugs_glutgaba_for_meike/'"
   ]
  },
  {
   "cell_type": "markdown",
   "metadata": {},
   "source": [
    "# Wild type characterization"
   ]
  },
  {
   "cell_type": "code",
   "execution_count": null,
   "metadata": {},
   "outputs": [],
   "source": [
    "df_features_control = df_features_combined[df_features_combined['drug'] == 'Wildtype'] "
   ]
  },
  {
   "cell_type": "code",
   "execution_count": null,
   "metadata": {},
   "outputs": [],
   "source": [
    "df_features_control.columns"
   ]
  },
  {
   "cell_type": "markdown",
   "metadata": {},
   "source": [
    "## Fig1a"
   ]
  },
  {
   "cell_type": "code",
   "execution_count": null,
   "metadata": {},
   "outputs": [],
   "source": [
    "feat_names_dict = {'curv':'Curvature', 'speed': 'Speed', 'rel_tan': 'Relative tangent angles'}\n",
    "feat_short_dict = {'curv':'c', 'speed':'s', 'rel_tan':'rta', 'ects':'EC' }\n",
    "df_control_zf_dict = {}"
   ]
  },
  {
   "cell_type": "code",
   "execution_count": null,
   "metadata": {},
   "outputs": [],
   "source": [
    "cpal = sns.color_palette(\"hls\",9)\n",
    "color_pal = [cpal[0], cpal[3], cpal[4], cpal[5], cpal[6], cpal[7]]\n",
    "# color_pal_dict = {'neck':cpal[0], 'tail_base':cpal[3], 'tail_pre_mid':cpal[4], 'tail_mid':cpal[5], 'tail_post_mid':cpal[6], 'tail_tip':cpal[7]}\n",
    "\n",
    "sns.palplot(color_pal)"
   ]
  },
  {
   "cell_type": "code",
   "execution_count": null,
   "metadata": {},
   "outputs": [],
   "source": [
    "\n",
    "\n",
    "for i, feat in tqdm.tqdm(enumerate(['curv', 'speed', 'rel_tan'])):\n",
    "    \n",
    "    feat_s = feat_short_dict[feat]\n",
    "    \n",
    "    df_feat_control = df_features_control.filter(items = [f\"{feat}_neck\",f\"{feat}_tail_base\", f\"{feat}_tail_pre_mid\",\n",
    "                                                f\"{feat}_tail_mid\", f\"{feat}_tail_post_mid\", f\"{feat}_tail_tip\"])\n",
    "    df_feat_control_zf = df_features_control[(np.abs(stats.zscore(df_feat_control, nan_policy='omit')) < 3).all(axis=1)] \n",
    "    df_feat_control_zf = df_feat_control_zf.filter(items = [f\"{feat}_neck\",f\"{feat}_tail_base\", f\"{feat}_tail_pre_mid\",\n",
    "                                                f\"{feat}_tail_mid\", f\"{feat}_tail_post_mid\", f\"{feat}_tail_tip\"])\n",
    "\n",
    "    col_rename_dict = {f\"{feat}_neck\" : f\"{feat_s}N\",\n",
    "                       f\"{feat}_tail_base\" :f\"{feat_s}TB\", \n",
    "                       f\"{feat}_tail_pre_mid\" : f\"{feat_s}TprM\",      \n",
    "                       f\"{feat}_tail_mid\": f\"{feat_s}TM\", \n",
    "                       f\"{feat}_tail_post_mid\": f\"{feat_s}TpoM\", \n",
    "                       f\"{feat}_tail_tip\": f\"{feat_s}TT\"}\n",
    "    \n",
    "\n",
    "        \n",
    "    df_feat_control_zf.rename(columns= col_rename_dict, inplace=True)\n",
    "    df_control_zf_dict[feat] = df_feat_control_zf"
   ]
  },
  {
   "cell_type": "code",
   "execution_count": null,
   "metadata": {},
   "outputs": [],
   "source": [
    "df_control_zf_dict.keys()"
   ]
  },
  {
   "cell_type": "code",
   "execution_count": null,
   "metadata": {},
   "outputs": [],
   "source": [
    "fig, axes = plt.subplots(1,3, figsize = (24, 10))\n",
    "for i, feat in tqdm.tqdm(enumerate(['curv', 'speed', 'rel_tan'])):\n",
    "    \n",
    "    df_feat_control_zf = df_control_zf_dict[feat]\n",
    "    if feat == 'curv':\n",
    "        df_feat_control_zf = df_feat_control_zf * (1/11.56)\n",
    "    elif feat == 'speed':\n",
    "        df_feat_control_zf = df_feat_control_zf * (346.80)\n",
    "    sns.boxplot(data = df_feat_control_zf, ax=axes[i], palette= color_pal, showfliers = False)\n",
    "    axes[i].set_xticklabels(axes[i].get_xticklabels(),rotation=30, size = 'x-large')\n",
    "    axes[i].set_ylabel(feat_names_dict[feat], size = 'xx-large')\n",
    "    plt.setp(axes[i].collections, alpha=.5)"
   ]
  },
  {
   "cell_type": "code",
   "execution_count": null,
   "metadata": {},
   "outputs": [],
   "source": [
    "fig.savefig(os.path.join(results_folder_meike,'fig1a_Wildtype.png'))"
   ]
  },
  {
   "cell_type": "code",
   "execution_count": null,
   "metadata": {},
   "outputs": [],
   "source": [
    "fig, axes = plt.subplots(1,3, figsize = (24, 10))\n",
    "for i, feat in tqdm.tqdm(enumerate(['curv', 'speed', 'rel_tan'])):\n",
    "    \n",
    "    df_feat_control_zf = df_control_zf_dict[feat]\n",
    "    if feat == 'curv':\n",
    "        df_feat_control_zf = df_feat_control_zf * (1/11.56)\n",
    "        df_feat_control_zf[df_feat_control_zf.abs() > 5] = 0\n",
    "    elif feat == 'speed':\n",
    "        df_feat_control_zf = df_feat_control_zf * (346.80)\n",
    "        df_feat_control_zf[df_feat_control_zf.abs() > 5000] = 0\n",
    "    sns.violinplot(data = df_feat_control_zf, ax=axes[i], palette= color_pal, alpha = 0.1)\n",
    "    axes[i].set_xticklabels(axes[i].get_xticklabels(),rotation=30, size = 'x-large')\n",
    "    axes[i].set_ylabel(feat_names_dict[feat], size = 'xx-large')\n",
    "    plt.setp(axes[i].collections, alpha=.5)"
   ]
  },
  {
   "cell_type": "markdown",
   "metadata": {
    "heading_collapsed": true
   },
   "source": [
    "## Playing with quartiles"
   ]
  },
  {
   "cell_type": "code",
   "execution_count": null,
   "metadata": {
    "hidden": true
   },
   "outputs": [],
   "source": [
    "\n",
    "Q1 = df_features_control.quantile(0.25, axis =0)\n",
    "Q3 = df_features_control.quantile(0.75, axis =0)\n",
    "    \n",
    "IQR = Q3 - Q1\n",
    "IQR\n",
    "\n",
    "# df_melted_wo_out = "
   ]
  },
  {
   "cell_type": "code",
   "execution_count": null,
   "metadata": {
    "hidden": true
   },
   "outputs": [],
   "source": [
    "df_low_thresh = Q1 - 1.5 * IQR\n",
    "df_high_thresh = Q3 + 1.5 * IQR"
   ]
  },
  {
   "cell_type": "code",
   "execution_count": null,
   "metadata": {
    "hidden": true
   },
   "outputs": [],
   "source": [
    "df_low_thresh.filter(like='ects_')"
   ]
  },
  {
   "cell_type": "code",
   "execution_count": null,
   "metadata": {
    "hidden": true
   },
   "outputs": [],
   "source": [
    "df_feat_control = df_features_control.filter(like='ects_')"
   ]
  },
  {
   "cell_type": "code",
   "execution_count": null,
   "metadata": {
    "hidden": true
   },
   "outputs": [],
   "source": [
    "df_feat_control_woo = df_feat_control[(df_feat_control > df_low_thresh.filter(like='ects_'))&\n",
    "                                      (df_feat_control < df_high_thresh.filter(like='ects_'))]"
   ]
  },
  {
   "cell_type": "code",
   "execution_count": null,
   "metadata": {
    "hidden": true
   },
   "outputs": [],
   "source": [
    "df_melted = pd.melt(df_feat_control_woo, var_name= 'coeff', value_name= 'ects')"
   ]
  },
  {
   "cell_type": "code",
   "execution_count": null,
   "metadata": {
    "hidden": true
   },
   "outputs": [],
   "source": [
    "df_melted"
   ]
  },
  {
   "cell_type": "code",
   "execution_count": null,
   "metadata": {
    "hidden": true
   },
   "outputs": [],
   "source": [
    "df_melted.dropna(inplace=True)"
   ]
  },
  {
   "cell_type": "code",
   "execution_count": null,
   "metadata": {
    "hidden": true
   },
   "outputs": [],
   "source": [
    "df_melted.min()"
   ]
  },
  {
   "cell_type": "code",
   "execution_count": null,
   "metadata": {
    "hidden": true
   },
   "outputs": [],
   "source": [
    "fig2, ax2 = plt.subplots(1,1, figsize = (15, 10))\n",
    "sns.violinplot(data = df_melted, x = 'coeff', y= 'ects', ax=ax2, palette=sns.color_palette('Set2',6), cut=0)\n",
    "ax2.set_xticklabels(ax2.get_xticklabels(),rotation=30, size = 'x-large')\n",
    "ax2.set_ylabel('Eigen cofficient value', size = 'xx-large')\n",
    "ax2.set_xlabel('Coefficient', size = 'xx-large')\n",
    "plt.setp(ax2.collections, alpha=.8)"
   ]
  },
  {
   "cell_type": "code",
   "execution_count": null,
   "metadata": {
    "hidden": true
   },
   "outputs": [],
   "source": []
  },
  {
   "cell_type": "markdown",
   "metadata": {},
   "source": [
    "## Fig 1b"
   ]
  },
  {
   "cell_type": "code",
   "execution_count": null,
   "metadata": {},
   "outputs": [],
   "source": [
    "col_rename_dict2 = {}\n",
    "\n",
    "for item in df_feat_control_zf.keys():\n",
    "    num = item.split('_')[1]\n",
    "    col_rename_dict2[item] = f'EC{num}'\n"
   ]
  },
  {
   "cell_type": "code",
   "execution_count": null,
   "metadata": {},
   "outputs": [],
   "source": [
    "df_feat_control = df_features_control.filter(like='ects_')\n",
    "df_feat_control_zf = df_features_control[(np.abs(stats.zscore(df_feat_control, nan_policy='omit')) < 3).all(axis=1)] \n",
    "df_feat_control_zf = df_feat_control_zf.filter(like='ects_')\n",
    "df_feat_control_zf.rename(columns=col_rename_dict2, inplace=True)\n",
    "\n",
    "df_melted = pd.melt(df_feat_control_zf, var_name= 'coeff', value_name= 'ects')\n",
    "# with sns.axes_style(\"darkgrid\"):"
   ]
  },
  {
   "cell_type": "code",
   "execution_count": null,
   "metadata": {},
   "outputs": [],
   "source": [
    "fig2, ax2 = plt.subplots(1,1, figsize = (15, 10))\n",
    "sns.boxplot(data = df_melted, x = 'coeff', y= 'ects', ax=ax2, palette=sns.color_palette('Set2',6), \n",
    "            showfliers=False)\n",
    "ax2.set_xticklabels(ax2.get_xticklabels(),rotation=30, size = 'x-large')\n",
    "ax2.set_ylabel('Eigen cofficient value', size = 'xx-large')\n",
    "ax2.set_xlabel('Coefficient', size = 'xx-large')\n",
    "plt.setp(ax2.collections, alpha=.8)"
   ]
  },
  {
   "cell_type": "code",
   "execution_count": null,
   "metadata": {},
   "outputs": [],
   "source": [
    "fig2.savefig(os.path.join(results_folder_meike,'fig1b_Wildtype.png'))"
   ]
  },
  {
   "cell_type": "code",
   "execution_count": null,
   "metadata": {},
   "outputs": [],
   "source": [
    "# fig2, ax2 = plt.subplots(1,1, figsize = (15, 10))\n",
    "# sns.violinplot(data = df_melted, x = 'coeff', y= 'ects', ax=ax2, palette=sns.color_palette('Set2',6))\n",
    "# ax2.set_xticklabels(ax2.get_xticklabels(),rotation=30, size = 'x-large')\n",
    "# ax2.set_ylabel('Eigen cofficient value', size = 'xx-large')\n",
    "# ax2.set_xlabel('Coefficient', size = 'xx-large')\n",
    "# plt.setp(ax2.collections, alpha=.8)"
   ]
  },
  {
   "cell_type": "markdown",
   "metadata": {},
   "source": [
    "## Quirkiness"
   ]
  },
  {
   "cell_type": "code",
   "execution_count": null,
   "metadata": {},
   "outputs": [],
   "source": [
    "corn_b = sns.color_palette(\"tab10\",9)[0]\n",
    "df_feat_control = df_features_control.filter(like='quirkness')\n",
    "# df_feat_control_zf = df_features_control[(np.abs(stats.zscore(df_feat_control, nan_policy='omit')) < 3).all(axis=1)] \n",
    "df_feat_control_zf = df_feat_control\n",
    "\n",
    "with sns.axes_style(\"darkgrid\"):\n",
    "    fig3, ax3 = plt.subplots(1,1, figsize = (5, 10))\n",
    "    sns.boxplot(data = df_feat_control_zf, color= corn_b, showfliers= False ,ax = ax3 )\n",
    "    ax3.set_xticklabels(ax3.get_xticklabels(),rotation=30)\n",
    "    ax3.set_ylabel('Quirkiness', size = 'xx-large')\n",
    "    ax3.axes.xaxis.set_visible(False)"
   ]
  },
  {
   "cell_type": "code",
   "execution_count": null,
   "metadata": {},
   "outputs": [],
   "source": [
    "fig3.savefig(os.path.join('/data/temp/athira/dlc_analysis/Results/results_Meike/fig1c_Wildtype.png'))"
   ]
  },
  {
   "cell_type": "code",
   "execution_count": null,
   "metadata": {},
   "outputs": [],
   "source": [
    "# corn_b = sns.color_palette(\"tab10\",9)[0]\n",
    "# df_feat_control = df_features_control.filter(like='quirkness')\n",
    "# df_feat_control_zf = df_features_control[(np.abs(stats.zscore(df_feat_control, nan_policy='omit')) < 3).all(axis=1)] \n",
    "# df_feat_control_zf = df_feat_control_zf.filter(like='quirkness')\n",
    "\n",
    "with sns.axes_style(\"darkgrid\"):\n",
    "    fig4, ax3 = plt.subplots(1,1, figsize = (8, 10))\n",
    "    sns.violinplot(data = df_feat_control_zf, color= corn_b, alpha = 0.5, ax = ax3 )\n",
    "    ax3.set_xticklabels(ax3.get_xticklabels(),rotation=30)\n",
    "    ax3.set_ylabel('Quirkiness', size = 'xx-large')\n",
    "    ax3.axes.xaxis.set_visible(False)"
   ]
  },
  {
   "cell_type": "code",
   "execution_count": null,
   "metadata": {},
   "outputs": [],
   "source": [
    "fig4.savefig(os.path.join(results_folder_meike,'fig1c_violin_Wildtype.png'))"
   ]
  },
  {
   "cell_type": "markdown",
   "metadata": {},
   "source": [
    "# Drugs vs control "
   ]
  },
  {
   "cell_type": "code",
   "execution_count": null,
   "metadata": {},
   "outputs": [],
   "source": [
    "df_features_combined.columns"
   ]
  },
  {
   "cell_type": "markdown",
   "metadata": {},
   "source": [
    "## SMD "
   ]
  },
  {
   "cell_type": "code",
   "execution_count": 7,
   "metadata": {},
   "outputs": [
    {
     "data": {
      "text/plain": [
       "['Wildtype',\n",
       " 'DL-THA1mM',\n",
       " 'Stiripentol50uM',\n",
       " 'PTZ100uM',\n",
       " 'Baclofen50uM',\n",
       " 'Strychnine10uM',\n",
       " 'KynurenicAcid100uM',\n",
       " 'Perampanel15uM',\n",
       " 'ValproidAcid50uM',\n",
       " 'PTZ1mM',\n",
       " 'Propranol50uM',\n",
       " 'Picrotoxin100uM',\n",
       " 'Picrotoxin1mM',\n",
       " 'ValproicAcid50mM',\n",
       " 'Bicucullin100uM',\n",
       " 'DMSO',\n",
       " 'Reserpine65uM',\n",
       " 'Ketamine100uM',\n",
       " 'Ketanserin500nM',\n",
       " 'Metoprolol100uM',\n",
       " 'GYKI5246620uM',\n",
       " 'Phenoxybenzamine100uM',\n",
       " 'NBQX10uM',\n",
       " 'Lamotrigineisethionate100uM',\n",
       " 'CNQX100uM',\n",
       " 'GYKI53655100uM',\n",
       " 'AP5100uM',\n",
       " 'PCD100uM']"
      ]
     },
     "execution_count": 7,
     "metadata": {},
     "output_type": "execute_result"
    }
   ],
   "source": [
    "drugs_list = list(df_features_combined.drug.unique())\n",
    "drugs_list"
   ]
  },
  {
   "cell_type": "code",
   "execution_count": 8,
   "metadata": {},
   "outputs": [
    {
     "data": {
      "text/plain": [
       "28"
      ]
     },
     "execution_count": 8,
     "metadata": {},
     "output_type": "execute_result"
    }
   ],
   "source": [
    "len(drugs_list)"
   ]
  },
  {
   "cell_type": "code",
   "execution_count": 9,
   "metadata": {},
   "outputs": [],
   "source": [
    "df_medians = df_features_combined.groupby(by='drug', as_index=True)[params_list].median()"
   ]
  },
  {
   "cell_type": "code",
   "execution_count": 10,
   "metadata": {},
   "outputs": [],
   "source": [
    "df_mad = df_features_combined.groupby(by='drug', as_index=True)[params_list].mad()"
   ]
  },
  {
   "cell_type": "code",
   "execution_count": 11,
   "metadata": {},
   "outputs": [],
   "source": [
    "list_smd_dicts = []\n",
    "for param in sorted(params_list):\n",
    "    \n",
    "    smd_dict = {}\n",
    "    smd_dict['param'] = param\n",
    "    \n",
    "    \n",
    "    for drug in drugs_list:\n",
    "        if (drug != 'Wildtype'):\n",
    "            if (drug == 'Propranol50uM')|(drug == 'DMSO'):\n",
    "                control_median = df_medians.loc['Wildtype'][param]\n",
    "                control_mad = df_mad.loc['Wildtype'][param]\n",
    "            else :\n",
    "                control_median = df_medians.loc['DMSO'][param]\n",
    "                control_mad = df_mad.loc['DMSO'][param]\n",
    "\n",
    "            drug_median = df_medians.loc[drug][param]\n",
    "            drug_mad = df_mad.loc[drug][param]\n",
    "\n",
    "            smd_dict[drug] = (drug_median - control_median) / (drug_mad + control_mad)\n",
    "        \n",
    "    list_smd_dicts.append(smd_dict)"
   ]
  },
  {
   "cell_type": "code",
   "execution_count": 12,
   "metadata": {},
   "outputs": [],
   "source": [
    "smd_df  = pd.DataFrame(list_smd_dicts).set_index('param')"
   ]
  },
  {
   "cell_type": "code",
   "execution_count": 13,
   "metadata": {},
   "outputs": [],
   "source": [
    "import matplotlib.pyplot as plt\n",
    "import seaborn as sns"
   ]
  },
  {
   "cell_type": "code",
   "execution_count": 14,
   "metadata": {},
   "outputs": [],
   "source": [
    "drugs_wo_control = drugs_list\n",
    "drugs_wo_control.remove('Wildtype')\n",
    "# drugs_wo_control.remove('DMSO')"
   ]
  },
  {
   "cell_type": "code",
   "execution_count": 15,
   "metadata": {},
   "outputs": [
    {
     "data": {
      "image/png": "[encoded data removed]",
      "text/plain": [
       "<Figure size 1080x720 with 2 Axes>"
      ]
     },
     "metadata": {
      "needs_background": "light"
     },
     "output_type": "display_data"
    }
   ],
   "source": [
    "\n",
    "fig, axes = plt.subplots(1,1, figsize = (15, 10))\n",
    "sns.heatmap(smd_df.loc[sorted(params_list)][drugs_wo_control].T, cmap= 'bwr', \n",
    "            square=True, ax=axes, center=0, cbar = True, cbar_kws = dict(use_gridspec=False,location=\"top\"))\n",
    "axes.set_title('Standardized Median Difference')\n",
    "fig.savefig(os.path.join(results_folder_meike, 'smd.png'))"
   ]
  },
  {
   "cell_type": "code",
   "execution_count": null,
   "metadata": {},
   "outputs": [],
   "source": [
    "fig_cluster = sns.clustermap(smd_df.loc[sorted(params_list)][drugs_wo_control].T, cmap= 'bwr', col_cluster=False)\n",
    "plt.savefig('')"
   ]
  },
  {
   "cell_type": "code",
   "execution_count": null,
   "metadata": {},
   "outputs": [],
   "source": [
    "# Curvatures (Postures-2)\n",
    "sns.clustermap(smd_df.loc[['curv_neck','curv_tail_base','curv_tail_pre_mid','curv_tail_mid','curv_tail_post_mid','curv_tail_tip']][drugs_wo_control].T, \n",
    "               cmap= 'bwr', col_cluster=False, figsize = (5,8))\n",
    "axes.set_title('Standardized Median Difference')"
   ]
  },
  {
   "cell_type": "code",
   "execution_count": null,
   "metadata": {},
   "outputs": [],
   "source": [
    "# Ects & Quirkiness (Postures-1)\n",
    "sns.clustermap(smd_df.loc[['ects_1','ects_2','ects_3','ects_4','ects_5','ects_6', 'quirkness']][drugs_wo_control].T, \n",
    "               cmap= 'bwr', col_cluster=False, figsize = (5,8))\n",
    "axes.set_title('Standardized Median Difference')"
   ]
  },
  {
   "cell_type": "code",
   "execution_count": null,
   "metadata": {},
   "outputs": [],
   "source": [
    "# Speeds\n",
    "sns.clustermap(smd_df.loc[['speed_neck','speed_tail_base','speed_tail_pre_mid','speed_tail_mid','speed_tail_post_mid','speed_tail_tip']][drugs_wo_control].T,\n",
    "               cmap= 'bwr', col_cluster=False, figsize = (5,8))\n",
    "axes.set_title('Standardized Median Difference')"
   ]
  },
  {
   "cell_type": "code",
   "execution_count": null,
   "metadata": {},
   "outputs": [],
   "source": [
    "# rel_tans\n",
    "sns.clustermap(smd_df.loc[['rel_tan_neck','rel_tan_tail_base','rel_tan_tail_pre_mid','rel_tan_tail_mid','rel_tan_tail_post_mid','rel_tan_tail_tip']][drugs_wo_control].T,\n",
    "               cmap= 'bwr', col_cluster=False, figsize = (5,8))\n",
    "axes.set_title('Standardized Median Difference')"
   ]
  },
  {
   "cell_type": "markdown",
   "metadata": {},
   "source": [
    "## Stat tests"
   ]
  },
  {
   "cell_type": "code",
   "execution_count": 16,
   "metadata": {},
   "outputs": [],
   "source": [
    "from scipy.stats import mannwhitneyu"
   ]
  },
  {
   "cell_type": "code",
   "execution_count": 20,
   "metadata": {},
   "outputs": [
    {
     "data": {
      "text/plain": [
       "27"
      ]
     },
     "execution_count": 20,
     "metadata": {},
     "output_type": "execute_result"
    }
   ],
   "source": [
    "len(drugs_list)"
   ]
  },
  {
   "cell_type": "code",
   "execution_count": 17,
   "metadata": {},
   "outputs": [],
   "source": [
    "def test_drugs_mannwhitney(drug, params_list, _tail):\n",
    "    \n",
    "    pvalues_dict = {}\n",
    "    pvalues_dict['drug'] = drug\n",
    "    \n",
    "    if ((drug == 'Propranol50uM')|(drug == 'DMSO')):\n",
    "        control = 'Wildtype'\n",
    "    else:\n",
    "        control = 'DMSO'\n",
    "    \n",
    "    for param in params_list:\n",
    "        \n",
    "        results = mannwhitneyu(*[df_features_combined[param][df_features_combined[\"drug\"] == group].values \n",
    "                         for group in [control,drug]], alternative= _tail)\n",
    "        \n",
    "        pvalues_dict[param] = results[-1]\n",
    "        \n",
    "        \n",
    "    return pvalues_dict"
   ]
  },
  {
   "cell_type": "code",
   "execution_count": 18,
   "metadata": {},
   "outputs": [
    {
     "ename": "ValueError",
     "evalue": "list.remove(x): x not in list",
     "output_type": "error",
     "traceback": [
      "\u001b[0;31m---------------------------------------------------------------------------\u001b[0m",
      "\u001b[0;31mValueError\u001b[0m                                Traceback (most recent call last)",
      "\u001b[0;32m<ipython-input-18-ecdc1d26901a>\u001b[0m in \u001b[0;36m<module>\u001b[0;34m\u001b[0m\n\u001b[1;32m      1\u001b[0m \u001b[0mdrugs_wo_wildtype\u001b[0m \u001b[0;34m=\u001b[0m \u001b[0mdrugs_list\u001b[0m\u001b[0;34m\u001b[0m\u001b[0;34m\u001b[0m\u001b[0m\n\u001b[0;32m----> 2\u001b[0;31m \u001b[0mdrugs_wo_wildtype\u001b[0m\u001b[0;34m.\u001b[0m\u001b[0mremove\u001b[0m\u001b[0;34m(\u001b[0m\u001b[0;34m'Wildtype'\u001b[0m\u001b[0;34m)\u001b[0m\u001b[0;34m\u001b[0m\u001b[0;34m\u001b[0m\u001b[0m\n\u001b[0m",
      "\u001b[0;31mValueError\u001b[0m: list.remove(x): x not in list"
     ]
    }
   ],
   "source": [
    "drugs_wo_wildtype = drugs_list\n",
    "drugs_wo_wildtype.remove('Wildtype')\n"
   ]
  },
  {
   "cell_type": "code",
   "execution_count": null,
   "metadata": {},
   "outputs": [],
   "source": [
    "params_list"
   ]
  },
  {
   "cell_type": "markdown",
   "metadata": {},
   "source": [
    "#### Two-tailed"
   ]
  },
  {
   "cell_type": "code",
   "execution_count": 21,
   "metadata": {},
   "outputs": [
    {
     "name": "stderr",
     "output_type": "stream",
     "text": [
      "[Parallel(n_jobs=27)]: Using backend LokyBackend with 27 concurrent workers.\n",
      "[Parallel(n_jobs=27)]: Done   4 out of  27 | elapsed:  5.6min remaining: 32.2min\n",
      "[Parallel(n_jobs=27)]: Done  10 out of  27 | elapsed:  6.4min remaining: 10.9min\n",
      "[Parallel(n_jobs=27)]: Done  16 out of  27 | elapsed:  7.1min remaining:  4.9min\n",
      "[Parallel(n_jobs=27)]: Done  22 out of  27 | elapsed:  7.8min remaining:  1.8min\n",
      "[Parallel(n_jobs=27)]: Done  27 out of  27 | elapsed:  9.1min finished\n"
     ]
    }
   ],
   "source": [
    "mannwhitney_combo_list = Parallel(n_jobs=len(drugs_wo_wildtype), verbose = 5)(delayed(test_drugs_mannwhitney)(drug, params_list,'two-sided') \n",
    "                                                          for drug in drugs_wo_wildtype)"
   ]
  },
  {
   "cell_type": "code",
   "execution_count": 22,
   "metadata": {},
   "outputs": [],
   "source": [
    "df_pval_mannwhitney = pd.DataFrame(mannwhitney_combo_list)\n",
    "df_pval_mannwhitney.set_index('drug', inplace = True)\n",
    "\n",
    "# Bonferroni correction\n",
    "bf_corr_pvalue = 0.05/len(df_pval_mannwhitney.index) \n",
    "df_binary_bf = df_pval_mannwhitney > bf_corr_pvalue\n",
    "\n"
   ]
  },
  {
   "cell_type": "code",
   "execution_count": null,
   "metadata": {},
   "outputs": [],
   "source": [
    "fig, axes = plt.subplots(1,1, figsize = (25, 8))\n",
    "sns.heatmap(df_binary_bf.loc[drugs_wo_wildtype][sorted(params_list)] , cmap = 'PiYG', linewidths=.5,\n",
    "            annot = df_pval_mannwhitney.loc[drugs_wo_wildtype][sorted(params_list)], ax= axes, cbar = False)\n",
    "plt.tight_layout()"
   ]
  },
  {
   "cell_type": "markdown",
   "metadata": {},
   "source": [
    "#### Less"
   ]
  },
  {
   "cell_type": "code",
   "execution_count": 23,
   "metadata": {},
   "outputs": [
    {
     "name": "stderr",
     "output_type": "stream",
     "text": [
      "[Parallel(n_jobs=27)]: Using backend LokyBackend with 27 concurrent workers.\n",
      "[Parallel(n_jobs=27)]: Done   4 out of  27 | elapsed:  3.8min remaining: 21.9min\n",
      "[Parallel(n_jobs=27)]: Done  10 out of  27 | elapsed:  4.7min remaining:  7.9min\n",
      "[Parallel(n_jobs=27)]: Done  16 out of  27 | elapsed:  5.6min remaining:  3.9min\n",
      "[Parallel(n_jobs=27)]: Done  22 out of  27 | elapsed:  6.4min remaining:  1.5min\n",
      "[Parallel(n_jobs=27)]: Done  27 out of  27 | elapsed:  7.5min finished\n"
     ]
    }
   ],
   "source": [
    "mwu_combo_list_less = Parallel(n_jobs=len(drugs_wo_wildtype), verbose = 5)(delayed(test_drugs_mannwhitney)(drug, params_list, 'less') \n",
    "                                                          for drug in drugs_wo_wildtype)\n",
    "\n",
    "df_pval_mwu_less = pd.DataFrame(mwu_combo_list_less)\n",
    "df_pval_mwu_less.set_index('drug', inplace = True)\n",
    "df_binary_bf_less = df_pval_mwu_less > bf_corr_pvalue"
   ]
  },
  {
   "cell_type": "code",
   "execution_count": null,
   "metadata": {},
   "outputs": [],
   "source": [
    "fig, axes = plt.subplots(1,1, figsize = (25, 8))\n",
    "sns.heatmap(df_binary_bf_less.loc[drugs_wo_wildtype][sorted(params_list)] , cmap = 'PiYG', linewidths=.5,\n",
    "            annot = df_pval_mwu_less.loc[drugs_wo_wildtype][sorted(params_list)], ax= axes, cbar = False)\n",
    "plt.tight_layout()"
   ]
  },
  {
   "cell_type": "code",
   "execution_count": null,
   "metadata": {},
   "outputs": [],
   "source": [
    "sns.clustermap(df_binary_bf_less.loc[sorted(drugs_wo_wildtype)][params_list].T, cmap= 'bwr', row_cluster=False)\n",
    "axes.set_title('Clustermap using significance trends')"
   ]
  },
  {
   "cell_type": "markdown",
   "metadata": {},
   "source": [
    "#### Greater "
   ]
  },
  {
   "cell_type": "code",
   "execution_count": 24,
   "metadata": {},
   "outputs": [
    {
     "name": "stderr",
     "output_type": "stream",
     "text": [
      "[Parallel(n_jobs=27)]: Using backend LokyBackend with 27 concurrent workers.\n",
      "[Parallel(n_jobs=27)]: Done   4 out of  27 | elapsed:  3.8min remaining: 21.7min\n",
      "[Parallel(n_jobs=27)]: Done  10 out of  27 | elapsed:  4.8min remaining:  8.1min\n",
      "[Parallel(n_jobs=27)]: Done  16 out of  27 | elapsed:  5.8min remaining:  4.0min\n",
      "[Parallel(n_jobs=27)]: Done  22 out of  27 | elapsed:  6.5min remaining:  1.5min\n",
      "[Parallel(n_jobs=27)]: Done  27 out of  27 | elapsed:  7.5min finished\n"
     ]
    }
   ],
   "source": [
    "mwu_combo_list_greater = Parallel(n_jobs=len(drugs_wo_wildtype), verbose = 5)(delayed(test_drugs_mannwhitney)(drug, params_list, 'greater') \n",
    "                                                          for drug in drugs_wo_wildtype)\n",
    "df_pval_mwu_greater = pd.DataFrame(mwu_combo_list_greater)\n",
    "df_pval_mwu_greater.set_index('drug', inplace = True)\n",
    "df_binary_bf_greater = df_pval_mwu_greater > bf_corr_pvalue"
   ]
  },
  {
   "cell_type": "code",
   "execution_count": null,
   "metadata": {},
   "outputs": [],
   "source": [
    "fig, axes = plt.subplots(1,1, figsize = (25, 8))\n",
    "sns.heatmap(df_binary_bf_greater.loc[drugs_wo_wildtype][sorted(params_list)] , cmap = 'PiYG', linewidths=.5,\n",
    "            annot = df_pval_mwu_greater.loc[drugs_wo_wildtype][sorted(params_list)], ax= axes, cbar = False)\n",
    "plt.tight_layout()"
   ]
  },
  {
   "cell_type": "markdown",
   "metadata": {},
   "source": [
    "#### Save test data "
   ]
  },
  {
   "cell_type": "code",
   "execution_count": 25,
   "metadata": {},
   "outputs": [],
   "source": [
    "writer = pd.ExcelWriter(os.path.join(results_folder_meike,'stats_data/pvalues_mannwhitneyu_drugs_all.xlsx'), \n",
    "                        engine='openpyxl')\n",
    "\n",
    "# Write each dataframe to a different worksheet.\n",
    "df_pval_mannwhitney.to_excel(writer, sheet_name='Two_tailed')\n",
    "df_pval_mwu_less.to_excel(writer, sheet_name='Less')\n",
    "df_pval_mwu_greater.to_excel(writer, sheet_name='Greater')\n",
    "\n",
    "# Close the Pandas Excel writer and output the Excel file.\n",
    "writer.save()"
   ]
  },
  {
   "cell_type": "code",
   "execution_count": 26,
   "metadata": {},
   "outputs": [],
   "source": [
    "df_pval_mannwhitney.to_pickle(os.path.join(results_folder_meike,'stats_data/mwu_pval_drugs_twosided.pickle'))\n",
    "df_pval_mwu_less.to_pickle(os.path.join(results_folder_meike,'stats_data/mwu_pval_drugs_less.pickle'))\n",
    "df_pval_mwu_greater.to_pickle(os.path.join(results_folder_meike,'stats_data/mwu_pval_drugs_greater.pickle'))"
   ]
  },
  {
   "cell_type": "code",
   "execution_count": null,
   "metadata": {},
   "outputs": [],
   "source": [
    "# df_binary_bf.to_pickle('./Results_30072021/drugs_pvals_all_for_figures/mwu_test_drugs_twosided.pickle')\n",
    "# df_binary_bf_less.to_pickle('./Results_30072021/drugs_pvals_all_for_figures/mwu_test_drugs_less.pickle')\n",
    "# df_binary_bf_greater.to_pickle('./Results_30072021/drugs_pvals_all_for_figures/mwu_test_drugs_greater.pickle')"
   ]
  },
  {
   "cell_type": "markdown",
   "metadata": {},
   "source": [
    "## Violin plots"
   ]
  },
  {
   "cell_type": "code",
   "execution_count": null,
   "metadata": {},
   "outputs": [],
   "source": [
    "# Q1 = df_features_combined.groupby('drug').quantile(0.25)\n",
    "# Q3 = df_features_combined.groupby('drug').quantile(0.75)\n",
    "    \n",
    "# IQR = Q3 - Q1\n",
    "# df_low_thresh = Q1 - 1.5 * IQR\n",
    "# df_high_thresh = Q3 + 1.5 * IQR"
   ]
  },
  {
   "cell_type": "code",
   "execution_count": null,
   "metadata": {},
   "outputs": [],
   "source": [
    "# df_feat_control_woo = df_feat_control[(df_feat_control > df_low_thresh.filter(like='ects_'))&\n",
    "#                                       (df_feat_control < df_high_thresh.filter(like='ects_'))]"
   ]
  },
  {
   "cell_type": "code",
   "execution_count": null,
   "metadata": {},
   "outputs": [],
   "source": []
  },
  {
   "cell_type": "code",
   "execution_count": 27,
   "metadata": {},
   "outputs": [],
   "source": [
    "def make_a_melted_df(main_df, param, drug_list):\n",
    "    \n",
    "    list_to_melt = []\n",
    "    params_df = main_df.filter(items=['drug', param, f'{param}_zscore'])\n",
    "    \n",
    "    for drug in drug_list:\n",
    "        \n",
    "        if ((drug == 'Propranol50uM')|(drug == 'DMSO')):\n",
    "            control = 'Wildtype'\n",
    "        else:\n",
    "            control = 'DMSO'\n",
    "        \n",
    "        # Select only those rows which are relevant to the particular drug \n",
    "        drug_df = params_df[(params_df['drug']==control)|(params_df['drug']==drug)]\n",
    "        \n",
    "        # Select those rows which have an acceptable zscore\n",
    "#         drug_df = drug_df[drug_df[f'{param}_zscore'] < 3]\n",
    "#         drug_df.drop(columns=f'{param}_zscore', inplace=True)\n",
    "        \n",
    "        # Append a column as drug_screened\n",
    "        drug_df['test_drug'] = drug\n",
    "        \n",
    "        # Rename the drug column\n",
    "        drug_df['drug']= drug_df.drug.apply(lambda x: 'drug' if x==drug else 'control')\n",
    "        \n",
    "        list_to_melt.append(drug_df)\n",
    "    \n",
    "    melted_param_df = pd.concat(list_to_melt)\n",
    "    return melted_param_df      \n"
   ]
  },
  {
   "cell_type": "code",
   "execution_count": 28,
   "metadata": {},
   "outputs": [],
   "source": [
    "dict_featnames = {'curv_neck':'cN',\n",
    " 'curv_tail_base':'cTB',\n",
    " 'curv_tail_pre_mid':'cTprM',\n",
    " 'curv_tail_mid':'cTM',\n",
    " 'curv_tail_post_mid':'cTpoM',\n",
    " 'curv_tail_tip':'cTT',\n",
    " 'speed_neck':'sN',\n",
    " 'speed_tail_base':'sTB',\n",
    " 'speed_tail_pre_mid':'sTprM',\n",
    " 'speed_tail_mid':'sTM',\n",
    " 'speed_tail_post_mid':'sTpoM',\n",
    " 'speed_tail_tip':'sTT',\n",
    " 'rel_tan_neck':'rtaN',\n",
    " 'rel_tan_tail_base':'rtaTB',\n",
    " 'rel_tan_tail_pre_mid':'rtaTprM',\n",
    " 'rel_tan_tail_mid':'rtaTM',\n",
    " 'rel_tan_tail_post_mid':'rtaTpoM',\n",
    " 'rel_tan_tail_tip':'rtaTT',\n",
    " 'ects_1':'EC1',\n",
    " 'ects_2':'EC1',\n",
    " 'ects_3':'EC1',\n",
    " 'ects_4':'EC1',\n",
    " 'ects_5':'EC1',\n",
    " 'ects_6':'EC1',\n",
    " 'quirkness':'Quirkiness'}"
   ]
  },
  {
   "cell_type": "code",
   "execution_count": 31,
   "metadata": {},
   "outputs": [],
   "source": [
    "def plot_comparitive_violins(param):\n",
    "    \n",
    "    violin_height = 4\n",
    "        \n",
    "    list_drugs = []\n",
    "    dict_drugs = {}\n",
    "\n",
    "    list_drugs1 = list(df_binary_bf.index[(~df_binary_bf[param]==True)&\n",
    "                                     (~df_binary_bf_less[param]==True)&\n",
    "                                     (~df_binary_bf_greater[param]==False)].values)\n",
    "    if list_drugs1:\n",
    "        list_drugs.extend(list_drugs1)\n",
    "        dict_drugs['g'] = list_drugs1\n",
    "\n",
    "    list_drugs2 = list(df_binary_bf.index[(~df_binary_bf[param]==True)&\n",
    "                                     (~df_binary_bf_greater[param]==True)&\n",
    "                                     (~df_binary_bf_less[param]==False)].values)\n",
    "    if list_drugs2:\n",
    "        list_drugs.extend(list_drugs2)\n",
    "        dict_drugs['l'] = list_drugs2\n",
    "\n",
    "    \n",
    "    n_drugs = len(list_drugs1) + len(list_drugs2) \n",
    "#         n_plots = (len(list_drugs1)!=0) + (len(list_drugs2)!=0) + (len(list_drugs3)!=0)\n",
    "\n",
    "    n_plots = len(list(dict_drugs.keys()))\n",
    "    \n",
    "    if n_plots != 0:\n",
    "        \n",
    "\n",
    "        \n",
    "        fig, axes = plt.subplots(1,1, figsize=(violin_height*n_drugs/2, violin_height))\n",
    "        \n",
    "        \n",
    "        melted_param_df = make_a_melted_df(df_features_combined, param, list_drugs)\n",
    "        if 'speed_' in param: \n",
    "            melted_param_df[param] = melted_param_df[param] * (346.80)\n",
    "            sns.boxplot(data=melted_param_df, x='test_drug',y=param, hue='drug', hue_order = ['control', 'drug'],\n",
    "                                        showfliers = False, ax=axes)\n",
    "        elif 'curv_' in param:\n",
    "            melted_param_df[param] = melted_param_df[param] * (1/11.56)\n",
    "            sns.boxplot(data=melted_param_df, x='test_drug',y=param, hue='drug', hue_order = ['control', 'drug'],\n",
    "                                    showfliers = False, ax=axes)\n",
    "        else:\n",
    "            sns.boxplot(data=melted_param_df, x='test_drug',y=param, hue='drug', hue_order = ['control', 'drug'],\n",
    "                                    showfliers = False, ax=axes)\n",
    "\n",
    "#         sns.despine(offset=10, trim=True)\n",
    "        \n",
    "        axes.set_title(f'{list_drugs2}', size = 'xx-large')\n",
    "#         axes.set_xticklabels(new_labels, size = 'x-large', rotation=30)\n",
    "        axes.set_ylabel(dict_featnames[param], size = 'xx-large')\n",
    "\n",
    "        \n",
    "        plt.tight_layout()\n",
    "        fig.savefig(os.path.join('/data/temp/athira/dlc_analysis/Results/results_drugs_glutgaba_for_meike/',f'Suppfig1_{param}.svg'))\n",
    "        fig.savefig(os.path.join('/data/temp/athira/dlc_analysis/Results/results_drugs_glutgaba_for_meike/',f'Suppfig1_{param}.png'))\n",
    "\n",
    "        return None"
   ]
  },
  {
   "cell_type": "code",
   "execution_count": 32,
   "metadata": {},
   "outputs": [
    {
     "name": "stderr",
     "output_type": "stream",
     "text": [
      "[Parallel(n_jobs=7)]: Using backend LokyBackend with 7 concurrent workers.\n",
      "[Parallel(n_jobs=7)]: Done   2 out of   7 | elapsed:  4.7min remaining: 11.7min\n",
      "[Parallel(n_jobs=7)]: Done   4 out of   7 | elapsed:  5.0min remaining:  3.8min\n",
      "[Parallel(n_jobs=7)]: Done   7 out of   7 | elapsed:  5.4min finished\n"
     ]
    }
   ],
   "source": [
    "df_params_list = Parallel(n_jobs= 7, verbose = 5)(delayed(plot_comparitive_violins)(param) \n",
    "                        for param in ['ects_1','ects_2','ects_3','ects_4','ects_5','ects_6','quirkness'])"
   ]
  },
  {
   "cell_type": "code",
   "execution_count": 33,
   "metadata": {},
   "outputs": [
    {
     "name": "stderr",
     "output_type": "stream",
     "text": [
      "[Parallel(n_jobs=7)]: Using backend LokyBackend with 7 concurrent workers.\n",
      "[Parallel(n_jobs=7)]: Done   3 out of   6 | elapsed:  4.2min remaining:  4.2min\n",
      "[Parallel(n_jobs=7)]: Done   6 out of   6 | elapsed:  4.6min finished\n"
     ]
    }
   ],
   "source": [
    "df_params_list = Parallel(n_jobs= 7, verbose = 5)(delayed(plot_comparitive_violins)(param) \n",
    "                        for param in ['curv_neck','curv_tail_base','curv_tail_pre_mid','curv_tail_mid',\n",
    "                                      'curv_tail_post_mid','curv_tail_tip'])"
   ]
  },
  {
   "cell_type": "code",
   "execution_count": 34,
   "metadata": {},
   "outputs": [
    {
     "name": "stderr",
     "output_type": "stream",
     "text": [
      "[Parallel(n_jobs=7)]: Using backend LokyBackend with 7 concurrent workers.\n",
      "[Parallel(n_jobs=7)]: Done   3 out of   6 | elapsed:  4.5min remaining:  4.5min\n",
      "[Parallel(n_jobs=7)]: Done   6 out of   6 | elapsed:  4.6min finished\n"
     ]
    }
   ],
   "source": [
    "df_params_list = Parallel(n_jobs= 7, verbose = 5)(delayed(plot_comparitive_violins)(param) \n",
    "                        for param in ['speed_neck','speed_tail_base','speed_tail_pre_mid','speed_tail_mid',\n",
    "                                      'speed_tail_post_mid','speed_tail_tip'])"
   ]
  },
  {
   "cell_type": "code",
   "execution_count": 35,
   "metadata": {},
   "outputs": [
    {
     "name": "stderr",
     "output_type": "stream",
     "text": [
      "[Parallel(n_jobs=7)]: Using backend LokyBackend with 7 concurrent workers.\n",
      "[Parallel(n_jobs=7)]: Done   3 out of   6 | elapsed:  4.2min remaining:  4.2min\n",
      "[Parallel(n_jobs=7)]: Done   6 out of   6 | elapsed:  4.5min finished\n"
     ]
    }
   ],
   "source": [
    "df_params_list = Parallel(n_jobs= 7, verbose = 5)(delayed(plot_comparitive_violins)(param) \n",
    "                        for param in ['rel_tan_neck','rel_tan_tail_base','rel_tan_tail_pre_mid','rel_tan_tail_mid',\n",
    "                                      'rel_tan_tail_post_mid','rel_tan_tail_tip'])"
   ]
  },
  {
   "cell_type": "code",
   "execution_count": null,
   "metadata": {},
   "outputs": [],
   "source": [
    "image_name = os.path.join('/data/temp/athira/dlc_analysis/Results/results_drugs_glutgaba_for_meike/',f'Suppfig1_curv_neck.png')\n",
    "from IPython.display import Image, display\n",
    "display(Image(image_name))"
   ]
  },
  {
   "cell_type": "code",
   "execution_count": null,
   "metadata": {},
   "outputs": [],
   "source": []
  }
 ],
 "metadata": {
  "kernelspec": {
   "display_name": "Python 3 (ipykernel)",
   "language": "python",
   "name": "python3"
  },
  "language_info": {
   "codemirror_mode": {
    "name": "ipython",
    "version": 3
   },
   "file_extension": ".py",
   "mimetype": "text/x-python",
   "name": "python",
   "nbconvert_exporter": "python",
   "pygments_lexer": "ipython3",
   "version": "3.8.10"
  },
  "toc": {
   "base_numbering": 1,
   "nav_menu": {},
   "number_sections": true,
   "sideBar": true,
   "skip_h1_title": false,
   "title_cell": "Table of Contents",
   "title_sidebar": "Contents",
   "toc_cell": false,
   "toc_position": {},
   "toc_section_display": true,
   "toc_window_display": false
  }
 },
 "nbformat": 4,
 "nbformat_minor": 4
}
